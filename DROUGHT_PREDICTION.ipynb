{
  "cells": [
    {
      "cell_type": "code",
      "source": [
        "from google.colab import drive\n",
        "drive.mount('/content/drive')"
      ],
      "metadata": {
        "colab": {
          "base_uri": "https://localhost:8080/"
        },
        "id": "DAewjSqpSbEj",
        "outputId": "9006e526-8763-40be-bea9-032df26f4fcb"
      },
      "execution_count": null,
      "outputs": [
        {
          "output_type": "stream",
          "name": "stdout",
          "text": [
            "Drive already mounted at /content/drive; to attempt to forcibly remount, call drive.mount(\"/content/drive\", force_remount=True).\n"
          ]
        }
      ]
    },
    {
      "cell_type": "code",
      "execution_count": null,
      "metadata": {
        "id": "sla_nOE2oPRT"
      },
      "outputs": [],
      "source": [
        "import os\n",
        "import subprocess\n",
        "import pandas as pd\n",
        "import numpy as np\n",
        "import matplotlib.pyplot as plt\n",
        "%matplotlib inline\n",
        "import warnings\n",
        "warnings.filterwarnings('ignore')\n",
        "import seaborn as sns\n",
        "from sklearn.model_selection import train_test_split\n",
        "from sklearn.preprocessing import StandardScaler\n",
        "from imblearn.over_sampling import SMOTE\n",
        "from imblearn.under_sampling import NeighbourhoodCleaningRule\n",
        "from imblearn.under_sampling import NearMiss\n",
        "from sklearn.feature_selection import RFE\n",
        "from sklearn.ensemble import RandomForestClassifier\n",
        "from sklearn.model_selection import RandomizedSearchCV\n",
        "from sklearn.discriminant_analysis import LinearDiscriminantAnalysis as LDA\n",
        "from sklearn.decomposition import PCA, KernelPCA\n",
        "from sklearn.tree import DecisionTreeClassifier\n",
        "from sklearn import tree\n",
        "from sklearn.svm import SVC\n",
        "from sklearn.neighbors import KNeighborsClassifier\n",
        "from sklearn.pipeline import Pipeline\n",
        "from sklearn.metrics import confusion_matrix, ConfusionMatrixDisplay, classification_report\n",
        "from sklearn.metrics import accuracy_score\n",
        "from sklearn.metrics import precision_score\n",
        "from sklearn.metrics import recall_score\n",
        "from sklearn.metrics import f1_score\n",
        "from sklearn.metrics import roc_auc_score\n",
        "from sklearn.metrics import cohen_kappa_score\n",
        "from sklearn import metrics\n",
        "from sklearn.model_selection import GridSearchCV\n",
        "from sklearn.naive_bayes import GaussianNB\n",
        "from sklearn.metrics import roc_curve, auc\n",
        "from sklearn.metrics import roc_auc_score\n",
        "import pickle"
      ]
    },
    {
      "cell_type": "code",
      "execution_count": null,
      "metadata": {
        "colab": {
          "base_uri": "https://localhost:8080/",
          "height": 386
        },
        "id": "9hO2TytBoyuo",
        "outputId": "b5ea0137-d0f0-42e9-c8c3-1d2e387eca1f"
      },
      "outputs": [
        {
          "output_type": "execute_result",
          "data": {
            "text/plain": [
              "   fips        date  PRECTOT      PS   QV2M    T2M  T2MDEW  T2MWET  T2M_MAX  \\\n",
              "0  1001  2000-01-01     0.22  100.51   9.65  14.74   13.51   13.51    20.96   \n",
              "1  1001  2000-01-02     0.20  100.55  10.42  16.69   14.71   14.71    22.80   \n",
              "2  1001  2000-01-03     3.65  100.15  11.76  18.49   16.52   16.52    22.73   \n",
              "3  1001  2000-01-04    15.95  100.29   6.42  11.40    6.09    6.10    18.09   \n",
              "4  1001  2000-01-05     0.00  101.15   2.95   3.86   -3.29   -3.20    10.82   \n",
              "\n",
              "   T2M_MIN  ...     TS  WS10M  WS10M_MAX  WS10M_MIN  WS10M_RANGE  WS50M  \\\n",
              "0    11.46  ...  14.65   2.20       2.94       1.49         1.46   4.85   \n",
              "1    12.61  ...  16.60   2.52       3.43       1.83         1.60   5.33   \n",
              "2    15.32  ...  18.41   4.03       5.33       2.66         2.67   7.53   \n",
              "3     2.16  ...  11.31   3.84       5.67       2.08         3.59   6.73   \n",
              "4    -2.66  ...   2.65   1.60       2.50       0.52         1.98   2.94   \n",
              "\n",
              "   WS50M_MAX  WS50M_MIN  WS50M_RANGE  score  \n",
              "0       6.04       3.23         2.81    NaN  \n",
              "1       6.13       3.72         2.41    NaN  \n",
              "2       9.52       5.87         3.66    NaN  \n",
              "3       9.31       3.74         5.58    1.0  \n",
              "4       4.85       0.65         4.19    NaN  \n",
              "\n",
              "[5 rows x 21 columns]"
            ],
            "text/html": [
              "\n",
              "  <div id=\"df-cd02c2be-5f4e-4100-a1c3-e5890f225c51\">\n",
              "    <div class=\"colab-df-container\">\n",
              "      <div>\n",
              "<style scoped>\n",
              "    .dataframe tbody tr th:only-of-type {\n",
              "        vertical-align: middle;\n",
              "    }\n",
              "\n",
              "    .dataframe tbody tr th {\n",
              "        vertical-align: top;\n",
              "    }\n",
              "\n",
              "    .dataframe thead th {\n",
              "        text-align: right;\n",
              "    }\n",
              "</style>\n",
              "<table border=\"1\" class=\"dataframe\">\n",
              "  <thead>\n",
              "    <tr style=\"text-align: right;\">\n",
              "      <th></th>\n",
              "      <th>fips</th>\n",
              "      <th>date</th>\n",
              "      <th>PRECTOT</th>\n",
              "      <th>PS</th>\n",
              "      <th>QV2M</th>\n",
              "      <th>T2M</th>\n",
              "      <th>T2MDEW</th>\n",
              "      <th>T2MWET</th>\n",
              "      <th>T2M_MAX</th>\n",
              "      <th>T2M_MIN</th>\n",
              "      <th>...</th>\n",
              "      <th>TS</th>\n",
              "      <th>WS10M</th>\n",
              "      <th>WS10M_MAX</th>\n",
              "      <th>WS10M_MIN</th>\n",
              "      <th>WS10M_RANGE</th>\n",
              "      <th>WS50M</th>\n",
              "      <th>WS50M_MAX</th>\n",
              "      <th>WS50M_MIN</th>\n",
              "      <th>WS50M_RANGE</th>\n",
              "      <th>score</th>\n",
              "    </tr>\n",
              "  </thead>\n",
              "  <tbody>\n",
              "    <tr>\n",
              "      <th>0</th>\n",
              "      <td>1001</td>\n",
              "      <td>2000-01-01</td>\n",
              "      <td>0.22</td>\n",
              "      <td>100.51</td>\n",
              "      <td>9.65</td>\n",
              "      <td>14.74</td>\n",
              "      <td>13.51</td>\n",
              "      <td>13.51</td>\n",
              "      <td>20.96</td>\n",
              "      <td>11.46</td>\n",
              "      <td>...</td>\n",
              "      <td>14.65</td>\n",
              "      <td>2.20</td>\n",
              "      <td>2.94</td>\n",
              "      <td>1.49</td>\n",
              "      <td>1.46</td>\n",
              "      <td>4.85</td>\n",
              "      <td>6.04</td>\n",
              "      <td>3.23</td>\n",
              "      <td>2.81</td>\n",
              "      <td>NaN</td>\n",
              "    </tr>\n",
              "    <tr>\n",
              "      <th>1</th>\n",
              "      <td>1001</td>\n",
              "      <td>2000-01-02</td>\n",
              "      <td>0.20</td>\n",
              "      <td>100.55</td>\n",
              "      <td>10.42</td>\n",
              "      <td>16.69</td>\n",
              "      <td>14.71</td>\n",
              "      <td>14.71</td>\n",
              "      <td>22.80</td>\n",
              "      <td>12.61</td>\n",
              "      <td>...</td>\n",
              "      <td>16.60</td>\n",
              "      <td>2.52</td>\n",
              "      <td>3.43</td>\n",
              "      <td>1.83</td>\n",
              "      <td>1.60</td>\n",
              "      <td>5.33</td>\n",
              "      <td>6.13</td>\n",
              "      <td>3.72</td>\n",
              "      <td>2.41</td>\n",
              "      <td>NaN</td>\n",
              "    </tr>\n",
              "    <tr>\n",
              "      <th>2</th>\n",
              "      <td>1001</td>\n",
              "      <td>2000-01-03</td>\n",
              "      <td>3.65</td>\n",
              "      <td>100.15</td>\n",
              "      <td>11.76</td>\n",
              "      <td>18.49</td>\n",
              "      <td>16.52</td>\n",
              "      <td>16.52</td>\n",
              "      <td>22.73</td>\n",
              "      <td>15.32</td>\n",
              "      <td>...</td>\n",
              "      <td>18.41</td>\n",
              "      <td>4.03</td>\n",
              "      <td>5.33</td>\n",
              "      <td>2.66</td>\n",
              "      <td>2.67</td>\n",
              "      <td>7.53</td>\n",
              "      <td>9.52</td>\n",
              "      <td>5.87</td>\n",
              "      <td>3.66</td>\n",
              "      <td>NaN</td>\n",
              "    </tr>\n",
              "    <tr>\n",
              "      <th>3</th>\n",
              "      <td>1001</td>\n",
              "      <td>2000-01-04</td>\n",
              "      <td>15.95</td>\n",
              "      <td>100.29</td>\n",
              "      <td>6.42</td>\n",
              "      <td>11.40</td>\n",
              "      <td>6.09</td>\n",
              "      <td>6.10</td>\n",
              "      <td>18.09</td>\n",
              "      <td>2.16</td>\n",
              "      <td>...</td>\n",
              "      <td>11.31</td>\n",
              "      <td>3.84</td>\n",
              "      <td>5.67</td>\n",
              "      <td>2.08</td>\n",
              "      <td>3.59</td>\n",
              "      <td>6.73</td>\n",
              "      <td>9.31</td>\n",
              "      <td>3.74</td>\n",
              "      <td>5.58</td>\n",
              "      <td>1.0</td>\n",
              "    </tr>\n",
              "    <tr>\n",
              "      <th>4</th>\n",
              "      <td>1001</td>\n",
              "      <td>2000-01-05</td>\n",
              "      <td>0.00</td>\n",
              "      <td>101.15</td>\n",
              "      <td>2.95</td>\n",
              "      <td>3.86</td>\n",
              "      <td>-3.29</td>\n",
              "      <td>-3.20</td>\n",
              "      <td>10.82</td>\n",
              "      <td>-2.66</td>\n",
              "      <td>...</td>\n",
              "      <td>2.65</td>\n",
              "      <td>1.60</td>\n",
              "      <td>2.50</td>\n",
              "      <td>0.52</td>\n",
              "      <td>1.98</td>\n",
              "      <td>2.94</td>\n",
              "      <td>4.85</td>\n",
              "      <td>0.65</td>\n",
              "      <td>4.19</td>\n",
              "      <td>NaN</td>\n",
              "    </tr>\n",
              "  </tbody>\n",
              "</table>\n",
              "<p>5 rows × 21 columns</p>\n",
              "</div>\n",
              "      <button class=\"colab-df-convert\" onclick=\"convertToInteractive('df-cd02c2be-5f4e-4100-a1c3-e5890f225c51')\"\n",
              "              title=\"Convert this dataframe to an interactive table.\"\n",
              "              style=\"display:none;\">\n",
              "        \n",
              "  <svg xmlns=\"http://www.w3.org/2000/svg\" height=\"24px\"viewBox=\"0 0 24 24\"\n",
              "       width=\"24px\">\n",
              "    <path d=\"M0 0h24v24H0V0z\" fill=\"none\"/>\n",
              "    <path d=\"M18.56 5.44l.94 2.06.94-2.06 2.06-.94-2.06-.94-.94-2.06-.94 2.06-2.06.94zm-11 1L8.5 8.5l.94-2.06 2.06-.94-2.06-.94L8.5 2.5l-.94 2.06-2.06.94zm10 10l.94 2.06.94-2.06 2.06-.94-2.06-.94-.94-2.06-.94 2.06-2.06.94z\"/><path d=\"M17.41 7.96l-1.37-1.37c-.4-.4-.92-.59-1.43-.59-.52 0-1.04.2-1.43.59L10.3 9.45l-7.72 7.72c-.78.78-.78 2.05 0 2.83L4 21.41c.39.39.9.59 1.41.59.51 0 1.02-.2 1.41-.59l7.78-7.78 2.81-2.81c.8-.78.8-2.07 0-2.86zM5.41 20L4 18.59l7.72-7.72 1.47 1.35L5.41 20z\"/>\n",
              "  </svg>\n",
              "      </button>\n",
              "      \n",
              "  <style>\n",
              "    .colab-df-container {\n",
              "      display:flex;\n",
              "      flex-wrap:wrap;\n",
              "      gap: 12px;\n",
              "    }\n",
              "\n",
              "    .colab-df-convert {\n",
              "      background-color: #E8F0FE;\n",
              "      border: none;\n",
              "      border-radius: 50%;\n",
              "      cursor: pointer;\n",
              "      display: none;\n",
              "      fill: #1967D2;\n",
              "      height: 32px;\n",
              "      padding: 0 0 0 0;\n",
              "      width: 32px;\n",
              "    }\n",
              "\n",
              "    .colab-df-convert:hover {\n",
              "      background-color: #E2EBFA;\n",
              "      box-shadow: 0px 1px 2px rgba(60, 64, 67, 0.3), 0px 1px 3px 1px rgba(60, 64, 67, 0.15);\n",
              "      fill: #174EA6;\n",
              "    }\n",
              "\n",
              "    [theme=dark] .colab-df-convert {\n",
              "      background-color: #3B4455;\n",
              "      fill: #D2E3FC;\n",
              "    }\n",
              "\n",
              "    [theme=dark] .colab-df-convert:hover {\n",
              "      background-color: #434B5C;\n",
              "      box-shadow: 0px 1px 3px 1px rgba(0, 0, 0, 0.15);\n",
              "      filter: drop-shadow(0px 1px 2px rgba(0, 0, 0, 0.3));\n",
              "      fill: #FFFFFF;\n",
              "    }\n",
              "  </style>\n",
              "\n",
              "      <script>\n",
              "        const buttonEl =\n",
              "          document.querySelector('#df-cd02c2be-5f4e-4100-a1c3-e5890f225c51 button.colab-df-convert');\n",
              "        buttonEl.style.display =\n",
              "          google.colab.kernel.accessAllowed ? 'block' : 'none';\n",
              "\n",
              "        async function convertToInteractive(key) {\n",
              "          const element = document.querySelector('#df-cd02c2be-5f4e-4100-a1c3-e5890f225c51');\n",
              "          const dataTable =\n",
              "            await google.colab.kernel.invokeFunction('convertToInteractive',\n",
              "                                                     [key], {});\n",
              "          if (!dataTable) return;\n",
              "\n",
              "          const docLinkHtml = 'Like what you see? Visit the ' +\n",
              "            '<a target=\"_blank\" href=https://colab.research.google.com/notebooks/data_table.ipynb>data table notebook</a>'\n",
              "            + ' to learn more about interactive tables.';\n",
              "          element.innerHTML = '';\n",
              "          dataTable['output_type'] = 'display_data';\n",
              "          await google.colab.output.renderOutput(dataTable, element);\n",
              "          const docLink = document.createElement('div');\n",
              "          docLink.innerHTML = docLinkHtml;\n",
              "          element.appendChild(docLink);\n",
              "        }\n",
              "      </script>\n",
              "    </div>\n",
              "  </div>\n",
              "  "
            ]
          },
          "metadata": {},
          "execution_count": 2
        }
      ],
      "source": [
        "drought_df = pd.read_csv('/content/drive/MyDrive/archive (8)/train_timeseries/train_timeseries.csv')\n",
        "drought_df.head()"
      ]
    },
    {
      "cell_type": "code",
      "execution_count": null,
      "metadata": {
        "colab": {
          "base_uri": "https://localhost:8080/"
        },
        "id": "ZhbqtofWpR7m",
        "outputId": "ab2534dc-6e30-4260-b3cf-2c47684a9023"
      },
      "outputs": [
        {
          "output_type": "execute_result",
          "data": {
            "text/plain": [
              "fips                  0\n",
              "date                  0\n",
              "PRECTOT               0\n",
              "PS                    0\n",
              "QV2M                  0\n",
              "T2M                   0\n",
              "T2MDEW                0\n",
              "T2MWET                0\n",
              "T2M_MAX               0\n",
              "T2M_MIN               0\n",
              "T2M_RANGE             0\n",
              "TS                    0\n",
              "WS10M                 0\n",
              "WS10M_MAX             0\n",
              "WS10M_MIN             0\n",
              "WS10M_RANGE           0\n",
              "WS50M                 0\n",
              "WS50M_MAX             0\n",
              "WS50M_MIN             0\n",
              "WS50M_RANGE           0\n",
              "score          16543884\n",
              "dtype: int64"
            ]
          },
          "metadata": {},
          "execution_count": 3
        }
      ],
      "source": [
        "drought_df.isnull().sum()\n"
      ]
    },
    {
      "cell_type": "code",
      "execution_count": null,
      "metadata": {
        "colab": {
          "base_uri": "https://localhost:8080/"
        },
        "id": "5hiNXWyWpwC5",
        "outputId": "cfd05312-67ab-42bc-956a-99f1abe19a9a"
      },
      "outputs": [
        {
          "output_type": "execute_result",
          "data": {
            "text/plain": [
              "fips           0\n",
              "date           0\n",
              "PRECTOT        0\n",
              "PS             0\n",
              "QV2M           0\n",
              "T2M            0\n",
              "T2MDEW         0\n",
              "T2MWET         0\n",
              "T2M_MAX        0\n",
              "T2M_MIN        0\n",
              "T2M_RANGE      0\n",
              "TS             0\n",
              "WS10M          0\n",
              "WS10M_MAX      0\n",
              "WS10M_MIN      0\n",
              "WS10M_RANGE    0\n",
              "WS50M          0\n",
              "WS50M_MAX      0\n",
              "WS50M_MIN      0\n",
              "WS50M_RANGE    0\n",
              "score          0\n",
              "dtype: int64"
            ]
          },
          "metadata": {},
          "execution_count": 4
        }
      ],
      "source": [
        "# Removing the null values in the target variable as the drought score is only available for once in 7 days.\n",
        "drought_df = drought_df.dropna()\n",
        "drought_df.isnull().sum()"
      ]
    },
    {
      "cell_type": "code",
      "execution_count": null,
      "metadata": {
        "colab": {
          "base_uri": "https://localhost:8080/"
        },
        "id": "H-NAZS1Gp0C0",
        "outputId": "c4513888-07a6-4c20-b21e-a31cf0740032"
      },
      "outputs": [
        {
          "output_type": "execute_result",
          "data": {
            "text/plain": [
              "fips             int64\n",
              "date            object\n",
              "PRECTOT        float64\n",
              "PS             float64\n",
              "QV2M           float64\n",
              "T2M            float64\n",
              "T2MDEW         float64\n",
              "T2MWET         float64\n",
              "T2M_MAX        float64\n",
              "T2M_MIN        float64\n",
              "T2M_RANGE      float64\n",
              "TS             float64\n",
              "WS10M          float64\n",
              "WS10M_MAX      float64\n",
              "WS10M_MIN      float64\n",
              "WS10M_RANGE    float64\n",
              "WS50M          float64\n",
              "WS50M_MAX      float64\n",
              "WS50M_MIN      float64\n",
              "WS50M_RANGE    float64\n",
              "score          float64\n",
              "dtype: object"
            ]
          },
          "metadata": {},
          "execution_count": 5
        }
      ],
      "source": [
        "drought_df.dtypes\n"
      ]
    },
    {
      "cell_type": "code",
      "source": [
        "drought_df['year'] = pd.DatetimeIndex(drought_df['date']).year\n",
        "drought_df['month'] = pd.DatetimeIndex(drought_df['date']).month\n",
        "drought_df['day'] = pd.DatetimeIndex(drought_df['date']).day\n",
        "drought_df['score'] = drought_df['score'].round().astype(int)\n",
        "drought_df.dtypes"
      ],
      "metadata": {
        "colab": {
          "base_uri": "https://localhost:8080/"
        },
        "id": "6utxaNFwA782",
        "outputId": "5ad98df5-e795-460d-ba76-cf6db8902c4a"
      },
      "execution_count": null,
      "outputs": [
        {
          "output_type": "execute_result",
          "data": {
            "text/plain": [
              "fips             int64\n",
              "date            object\n",
              "PRECTOT        float64\n",
              "PS             float64\n",
              "QV2M           float64\n",
              "T2M            float64\n",
              "T2MDEW         float64\n",
              "T2MWET         float64\n",
              "T2M_MAX        float64\n",
              "T2M_MIN        float64\n",
              "T2M_RANGE      float64\n",
              "TS             float64\n",
              "WS10M          float64\n",
              "WS10M_MAX      float64\n",
              "WS10M_MIN      float64\n",
              "WS10M_RANGE    float64\n",
              "WS50M          float64\n",
              "WS50M_MAX      float64\n",
              "WS50M_MIN      float64\n",
              "WS50M_RANGE    float64\n",
              "score            int64\n",
              "year             int64\n",
              "month            int64\n",
              "day              int64\n",
              "dtype: object"
            ]
          },
          "metadata": {},
          "execution_count": 7
        }
      ]
    },
    {
      "cell_type": "code",
      "source": [
        "categorical_column_list = ['score','year','month','day']\n",
        "drought_df_categorical = drought_df[['score','year','month','day']]"
      ],
      "metadata": {
        "id": "N4F27xP60615"
      },
      "execution_count": null,
      "outputs": []
    },
    {
      "cell_type": "code",
      "source": [
        "# Distribution of categorical variables\n",
        "plt.figure(figsize=(10,40))\n",
        "for col_name in categorical_column_list:\n",
        "    plt.figure()\n",
        "    drought_df_categorical[col_name].value_counts().plot(kind = 'bar')\n",
        "    x_name = col_name\n",
        "    y_name = 'Density'\n",
        "    plt.xlabel(x_name)\n",
        "    plt.ylabel(y_name)\n",
        "    plt.title('Distribution of {x_name}'.format(x_name=x_name))\n",
        "    plt.tight_layout()"
      ],
      "metadata": {
        "colab": {
          "base_uri": "https://localhost:8080/",
          "height": 1000
        },
        "id": "X39Ng6JP0-ox",
        "outputId": "115a1b3d-0831-4353-beb0-cd0d92d40242"
      },
      "execution_count": null,
      "outputs": [
        {
          "output_type": "display_data",
          "data": {
            "text/plain": [
              "<Figure size 1000x4000 with 0 Axes>"
            ]
          },
          "metadata": {}
        },
        {
          "output_type": "display_data",
          "data": {
            "text/plain": [
              "<Figure size 640x480 with 1 Axes>"
            ],
            "image/png": "[encoded data removed]"
          },
          "metadata": {}
        },
        {
          "output_type": "display_data",
          "data": {
            "text/plain": [
              "<Figure size 640x480 with 1 Axes>"
            ],
            "image/png": "[encoded data removed]"
          },
          "metadata": {}
        },
        {
          "output_type": "display_data",
          "data": {
            "text/plain": [
              "<Figure size 640x480 with 1 Axes>"
            ],
            "image/png": "[encoded data removed]"
          },
          "metadata": {}
        },
        {
          "output_type": "display_data",
          "data": {
            "text/plain": [
              "<Figure size 640x480 with 1 Axes>"
            ],
            "image/png": "[encoded data removed]"
          },
          "metadata": {}
        }
      ]
    },
    {
      "cell_type": "code",
      "source": [
        "drought_df_measures = drought_df[['PRECTOT','PS','QV2M','T2M','T2MDEW','T2MWET','T2M_MAX','T2M_MIN','T2M_RANGE','TS','WS10M','WS10M_MAX','WS10M_MIN','WS10M_RANGE','WS50M','WS50M_MAX','WS50M_MIN','WS50M_RANGE']]\n",
        "correlation_plot = drought_df_measures.corr()\n",
        "correlation_plot.style.background_gradient(cmap = 'RdYlGn')"
      ],
      "metadata": {
        "colab": {
          "base_uri": "https://localhost:8080/",
          "height": 633
        },
        "id": "wln8NKcm1IA2",
        "outputId": "581bf338-705b-458b-c387-b3effd613158"
      },
      "execution_count": null,
      "outputs": [
        {
          "output_type": "execute_result",
          "data": {
            "text/plain": [
              "<pandas.io.formats.style.Styler at 0x7fd596467250>"
            ],
            "text/html": [
              "<style type=\"text/css\">\n",
              "#T_dccad_row0_col0, #T_dccad_row1_col1, #T_dccad_row2_col2, #T_dccad_row3_col3, #T_dccad_row3_col9, #T_dccad_row4_col4, #T_dccad_row4_col5, #T_dccad_row5_col4, #T_dccad_row5_col5, #T_dccad_row6_col6, #T_dccad_row7_col7, #T_dccad_row8_col8, #T_dccad_row9_col3, #T_dccad_row9_col9, #T_dccad_row10_col10, #T_dccad_row11_col11, #T_dccad_row12_col12, #T_dccad_row13_col13, #T_dccad_row14_col14, #T_dccad_row15_col15, #T_dccad_row16_col16, #T_dccad_row17_col17 {\n",
              "  background-color: #006837;\n",
              "  color: #f1f1f1;\n",
              "}\n",
              "#T_dccad_row0_col1 {\n",
              "  background-color: #f8864f;\n",
              "  color: #f1f1f1;\n",
              "}\n",
              "#T_dccad_row0_col2, #T_dccad_row12_col13, #T_dccad_row16_col13 {\n",
              "  background-color: #fee18d;\n",
              "  color: #000000;\n",
              "}\n",
              "#T_dccad_row0_col3, #T_dccad_row15_col8 {\n",
              "  background-color: #f99153;\n",
              "  color: #000000;\n",
              "}\n",
              "#T_dccad_row0_col4, #T_dccad_row0_col5 {\n",
              "  background-color: #fee08b;\n",
              "  color: #000000;\n",
              "}\n",
              "#T_dccad_row0_col6, #T_dccad_row8_col4, #T_dccad_row8_col5 {\n",
              "  background-color: #f47044;\n",
              "  color: #f1f1f1;\n",
              "}\n",
              "#T_dccad_row0_col7, #T_dccad_row9_col0 {\n",
              "  background-color: #fdaf62;\n",
              "  color: #000000;\n",
              "}\n",
              "#T_dccad_row0_col8, #T_dccad_row2_col14, #T_dccad_row2_col15, #T_dccad_row2_col17, #T_dccad_row4_col10, #T_dccad_row4_col11, #T_dccad_row4_col13, #T_dccad_row4_col14, #T_dccad_row4_col15, #T_dccad_row5_col10, #T_dccad_row5_col11, #T_dccad_row5_col13, #T_dccad_row5_col14, #T_dccad_row5_col15, #T_dccad_row6_col12, #T_dccad_row6_col16, #T_dccad_row8_col0, #T_dccad_row8_col1, #T_dccad_row8_col16, #T_dccad_row11_col3, #T_dccad_row11_col6, #T_dccad_row11_col7, #T_dccad_row11_col9, #T_dccad_row13_col2, #T_dccad_row13_col4, #T_dccad_row13_col5, #T_dccad_row13_col7, #T_dccad_row15_col7 {\n",
              "  background-color: #a50026;\n",
              "  color: #f1f1f1;\n",
              "}\n",
              "#T_dccad_row0_col9 {\n",
              "  background-color: #f88950;\n",
              "  color: #f1f1f1;\n",
              "}\n",
              "#T_dccad_row0_col10, #T_dccad_row8_col13 {\n",
              "  background-color: #f7814c;\n",
              "  color: #f1f1f1;\n",
              "}\n",
              "#T_dccad_row0_col11 {\n",
              "  background-color: #f99355;\n",
              "  color: #000000;\n",
              "}\n",
              "#T_dccad_row0_col12, #T_dccad_row12_col8, #T_dccad_row16_col2 {\n",
              "  background-color: #e44c34;\n",
              "  color: #f1f1f1;\n",
              "}\n",
              "#T_dccad_row0_col13, #T_dccad_row1_col6, #T_dccad_row10_col0, #T_dccad_row17_col0 {\n",
              "  background-color: #fa9b58;\n",
              "  color: #000000;\n",
              "}\n",
              "#T_dccad_row0_col14 {\n",
              "  background-color: #f67f4b;\n",
              "  color: #f1f1f1;\n",
              "}\n",
              "#T_dccad_row0_col15 {\n",
              "  background-color: #fa9656;\n",
              "  color: #000000;\n",
              "}\n",
              "#T_dccad_row0_col16, #T_dccad_row10_col8 {\n",
              "  background-color: #eb5a3a;\n",
              "  color: #f1f1f1;\n",
              "}\n",
              "#T_dccad_row0_col17, #T_dccad_row8_col7 {\n",
              "  background-color: #f7844e;\n",
              "  color: #f1f1f1;\n",
              "}\n",
              "#T_dccad_row1_col0, #T_dccad_row14_col0 {\n",
              "  background-color: #fca55d;\n",
              "  color: #000000;\n",
              "}\n",
              "#T_dccad_row1_col2 {\n",
              "  background-color: #feeb9d;\n",
              "  color: #000000;\n",
              "}\n",
              "#T_dccad_row1_col3 {\n",
              "  background-color: #fdb567;\n",
              "  color: #000000;\n",
              "}\n",
              "#T_dccad_row1_col4, #T_dccad_row1_col5 {\n",
              "  background-color: #fffbb8;\n",
              "  color: #000000;\n",
              "}\n",
              "#T_dccad_row1_col7, #T_dccad_row7_col1 {\n",
              "  background-color: #fec877;\n",
              "  color: #000000;\n",
              "}\n",
              "#T_dccad_row1_col8, #T_dccad_row14_col4, #T_dccad_row14_col5 {\n",
              "  background-color: #c21c27;\n",
              "  color: #f1f1f1;\n",
              "}\n",
              "#T_dccad_row1_col9, #T_dccad_row3_col0 {\n",
              "  background-color: #fdb163;\n",
              "  color: #000000;\n",
              "}\n",
              "#T_dccad_row1_col10, #T_dccad_row1_col15, #T_dccad_row8_col10, #T_dccad_row12_col2, #T_dccad_row12_col4, #T_dccad_row12_col5 {\n",
              "  background-color: #de402e;\n",
              "  color: #f1f1f1;\n",
              "}\n",
              "#T_dccad_row1_col11, #T_dccad_row16_col7 {\n",
              "  background-color: #d83128;\n",
              "  color: #f1f1f1;\n",
              "}\n",
              "#T_dccad_row1_col12 {\n",
              "  background-color: #e34933;\n",
              "  color: #f1f1f1;\n",
              "}\n",
              "#T_dccad_row1_col13, #T_dccad_row6_col13, #T_dccad_row9_col13, #T_dccad_row12_col6 {\n",
              "  background-color: #c41e27;\n",
              "  color: #f1f1f1;\n",
              "}\n",
              "#T_dccad_row1_col14, #T_dccad_row8_col14, #T_dccad_row16_col8 {\n",
              "  background-color: #e14430;\n",
              "  color: #f1f1f1;\n",
              "}\n",
              "#T_dccad_row1_col16, #T_dccad_row14_col1 {\n",
              "  background-color: #e54e35;\n",
              "  color: #f1f1f1;\n",
              "}\n",
              "#T_dccad_row1_col17, #T_dccad_row11_col1, #T_dccad_row16_col6 {\n",
              "  background-color: #c82227;\n",
              "  color: #f1f1f1;\n",
              "}\n",
              "#T_dccad_row2_col0, #T_dccad_row3_col8, #T_dccad_row9_col8 {\n",
              "  background-color: #fee695;\n",
              "  color: #000000;\n",
              "}\n",
              "#T_dccad_row2_col1 {\n",
              "  background-color: #fee593;\n",
              "  color: #000000;\n",
              "}\n",
              "#T_dccad_row2_col3, #T_dccad_row9_col2, #T_dccad_row13_col11 {\n",
              "  background-color: #1e9a51;\n",
              "  color: #f1f1f1;\n",
              "}\n",
              "#T_dccad_row2_col4, #T_dccad_row4_col2 {\n",
              "  background-color: #08773f;\n",
              "  color: #f1f1f1;\n",
              "}\n",
              "#T_dccad_row2_col5, #T_dccad_row5_col2, #T_dccad_row10_col14 {\n",
              "  background-color: #07753e;\n",
              "  color: #f1f1f1;\n",
              "}\n",
              "#T_dccad_row2_col6 {\n",
              "  background-color: #48ae5c;\n",
              "  color: #f1f1f1;\n",
              "}\n",
              "#T_dccad_row2_col7 {\n",
              "  background-color: #138c4a;\n",
              "  color: #f1f1f1;\n",
              "}\n",
              "#T_dccad_row2_col8, #T_dccad_row8_col11 {\n",
              "  background-color: #ed5f3c;\n",
              "  color: #f1f1f1;\n",
              "}\n",
              "#T_dccad_row2_col9, #T_dccad_row6_col4 {\n",
              "  background-color: #249d53;\n",
              "  color: #f1f1f1;\n",
              "}\n",
              "#T_dccad_row2_col10, #T_dccad_row2_col11, #T_dccad_row2_col13, #T_dccad_row3_col14, #T_dccad_row6_col14, #T_dccad_row10_col3, #T_dccad_row10_col9, #T_dccad_row11_col2, #T_dccad_row11_col4, #T_dccad_row11_col5, #T_dccad_row13_col3, #T_dccad_row15_col3 {\n",
              "  background-color: #a90426;\n",
              "  color: #f1f1f1;\n",
              "}\n",
              "#T_dccad_row2_col12, #T_dccad_row9_col12, #T_dccad_row15_col4, #T_dccad_row15_col5 {\n",
              "  background-color: #b30d26;\n",
              "  color: #f1f1f1;\n",
              "}\n",
              "#T_dccad_row2_col16, #T_dccad_row4_col16, #T_dccad_row5_col16, #T_dccad_row6_col15, #T_dccad_row7_col13, #T_dccad_row9_col15 {\n",
              "  background-color: #bb1526;\n",
              "  color: #f1f1f1;\n",
              "}\n",
              "#T_dccad_row3_col1, #T_dccad_row9_col1 {\n",
              "  background-color: #fdb768;\n",
              "  color: #000000;\n",
              "}\n",
              "#T_dccad_row3_col2, #T_dccad_row11_col13 {\n",
              "  background-color: #1b9950;\n",
              "  color: #f1f1f1;\n",
              "}\n",
              "#T_dccad_row3_col4, #T_dccad_row3_col5, #T_dccad_row5_col3, #T_dccad_row15_col14 {\n",
              "  background-color: #118848;\n",
              "  color: #f1f1f1;\n",
              "}\n",
              "#T_dccad_row3_col6, #T_dccad_row3_col7, #T_dccad_row6_col3, #T_dccad_row7_col3 {\n",
              "  background-color: #036e3a;\n",
              "  color: #f1f1f1;\n",
              "}\n",
              "#T_dccad_row3_col10, #T_dccad_row7_col10, #T_dccad_row7_col12, #T_dccad_row8_col12, #T_dccad_row9_col16 {\n",
              "  background-color: #b10b26;\n",
              "  color: #f1f1f1;\n",
              "}\n",
              "#T_dccad_row3_col11, #T_dccad_row6_col11, #T_dccad_row7_col17 {\n",
              "  background-color: #b71126;\n",
              "  color: #f1f1f1;\n",
              "}\n",
              "#T_dccad_row3_col12, #T_dccad_row15_col2 {\n",
              "  background-color: #ab0626;\n",
              "  color: #f1f1f1;\n",
              "}\n",
              "#T_dccad_row3_col13, #T_dccad_row17_col1 {\n",
              "  background-color: #c01a27;\n",
              "  color: #f1f1f1;\n",
              "}\n",
              "#T_dccad_row3_col15, #T_dccad_row7_col11, #T_dccad_row7_col16, #T_dccad_row10_col2, #T_dccad_row10_col4, #T_dccad_row10_col5, #T_dccad_row17_col4, #T_dccad_row17_col5 {\n",
              "  background-color: #b50f26;\n",
              "  color: #f1f1f1;\n",
              "}\n",
              "#T_dccad_row3_col16, #T_dccad_row6_col10, #T_dccad_row7_col15, #T_dccad_row10_col7, #T_dccad_row13_col6, #T_dccad_row14_col9, #T_dccad_row17_col2 {\n",
              "  background-color: #ad0826;\n",
              "  color: #f1f1f1;\n",
              "}\n",
              "#T_dccad_row3_col17 {\n",
              "  background-color: #c62027;\n",
              "  color: #f1f1f1;\n",
              "}\n",
              "#T_dccad_row4_col0, #T_dccad_row5_col0 {\n",
              "  background-color: #fee491;\n",
              "  color: #000000;\n",
              "}\n",
              "#T_dccad_row4_col1, #T_dccad_row5_col1 {\n",
              "  background-color: #fff3ac;\n",
              "  color: #000000;\n",
              "}\n",
              "#T_dccad_row4_col3, #T_dccad_row7_col2, #T_dccad_row9_col4, #T_dccad_row9_col5, #T_dccad_row10_col15, #T_dccad_row11_col14, #T_dccad_row14_col11, #T_dccad_row15_col10 {\n",
              "  background-color: #128a49;\n",
              "  color: #f1f1f1;\n",
              "}\n",
              "#T_dccad_row4_col6, #T_dccad_row5_col6 {\n",
              "  background-color: #279f53;\n",
              "  color: #f1f1f1;\n",
              "}\n",
              "#T_dccad_row4_col7, #T_dccad_row5_col7, #T_dccad_row6_col7, #T_dccad_row7_col4, #T_dccad_row12_col16, #T_dccad_row16_col12 {\n",
              "  background-color: #0c7f43;\n",
              "  color: #f1f1f1;\n",
              "}\n",
              "#T_dccad_row4_col8, #T_dccad_row5_col8 {\n",
              "  background-color: #f67a49;\n",
              "  color: #f1f1f1;\n",
              "}\n",
              "#T_dccad_row4_col9, #T_dccad_row5_col9 {\n",
              "  background-color: #148e4b;\n",
              "  color: #f1f1f1;\n",
              "}\n",
              "#T_dccad_row4_col12, #T_dccad_row5_col12, #T_dccad_row9_col14, #T_dccad_row13_col1, #T_dccad_row14_col3, #T_dccad_row14_col6, #T_dccad_row14_col7, #T_dccad_row15_col6, #T_dccad_row17_col7 {\n",
              "  background-color: #af0926;\n",
              "  color: #f1f1f1;\n",
              "}\n",
              "#T_dccad_row4_col17, #T_dccad_row5_col17, #T_dccad_row7_col14, #T_dccad_row10_col6, #T_dccad_row13_col9, #T_dccad_row15_col9, #T_dccad_row17_col16 {\n",
              "  background-color: #a70226;\n",
              "  color: #f1f1f1;\n",
              "}\n",
              "#T_dccad_row6_col0, #T_dccad_row12_col0 {\n",
              "  background-color: #f98e52;\n",
              "  color: #f1f1f1;\n",
              "}\n",
              "#T_dccad_row6_col1 {\n",
              "  background-color: #fb9d59;\n",
              "  color: #000000;\n",
              "}\n",
              "#T_dccad_row6_col2 {\n",
              "  background-color: #42ac5a;\n",
              "  color: #f1f1f1;\n",
              "}\n",
              "#T_dccad_row6_col5 {\n",
              "  background-color: #219c52;\n",
              "  color: #f1f1f1;\n",
              "}\n",
              "#T_dccad_row6_col8 {\n",
              "  background-color: #eef8a8;\n",
              "  color: #000000;\n",
              "}\n",
              "#T_dccad_row6_col9, #T_dccad_row7_col9, #T_dccad_row9_col6, #T_dccad_row9_col7 {\n",
              "  background-color: #04703b;\n",
              "  color: #f1f1f1;\n",
              "}\n",
              "#T_dccad_row6_col17, #T_dccad_row16_col17 {\n",
              "  background-color: #d42d27;\n",
              "  color: #f1f1f1;\n",
              "}\n",
              "#T_dccad_row7_col0 {\n",
              "  background-color: #fdc574;\n",
              "  color: #000000;\n",
              "}\n",
              "#T_dccad_row7_col5 {\n",
              "  background-color: #0b7d42;\n",
              "  color: #f1f1f1;\n",
              "}\n",
              "#T_dccad_row7_col6 {\n",
              "  background-color: #0d8044;\n",
              "  color: #f1f1f1;\n",
              "}\n",
              "#T_dccad_row7_col8, #T_dccad_row13_col0 {\n",
              "  background-color: #fba35c;\n",
              "  color: #000000;\n",
              "}\n",
              "#T_dccad_row8_col2, #T_dccad_row16_col4, #T_dccad_row16_col5 {\n",
              "  background-color: #e65036;\n",
              "  color: #f1f1f1;\n",
              "}\n",
              "#T_dccad_row8_col3 {\n",
              "  background-color: #fed683;\n",
              "  color: #000000;\n",
              "}\n",
              "#T_dccad_row8_col6 {\n",
              "  background-color: #fafdb8;\n",
              "  color: #000000;\n",
              "}\n",
              "#T_dccad_row8_col9 {\n",
              "  background-color: #fed07e;\n",
              "  color: #000000;\n",
              "}\n",
              "#T_dccad_row8_col15 {\n",
              "  background-color: #f67c4a;\n",
              "  color: #f1f1f1;\n",
              "}\n",
              "#T_dccad_row8_col17, #T_dccad_row13_col12 {\n",
              "  background-color: #fdbd6d;\n",
              "  color: #000000;\n",
              "}\n",
              "#T_dccad_row9_col10, #T_dccad_row17_col9 {\n",
              "  background-color: #b91326;\n",
              "  color: #f1f1f1;\n",
              "}\n",
              "#T_dccad_row9_col11 {\n",
              "  background-color: #be1827;\n",
              "  color: #f1f1f1;\n",
              "}\n",
              "#T_dccad_row9_col17, #T_dccad_row12_col3, #T_dccad_row12_col9, #T_dccad_row17_col6 {\n",
              "  background-color: #ca2427;\n",
              "  color: #f1f1f1;\n",
              "}\n",
              "#T_dccad_row10_col1 {\n",
              "  background-color: #dc3b2c;\n",
              "  color: #f1f1f1;\n",
              "}\n",
              "#T_dccad_row10_col11, #T_dccad_row11_col10 {\n",
              "  background-color: #097940;\n",
              "  color: #f1f1f1;\n",
              "}\n",
              "#T_dccad_row10_col12, #T_dccad_row15_col13 {\n",
              "  background-color: #3ca959;\n",
              "  color: #f1f1f1;\n",
              "}\n",
              "#T_dccad_row10_col13 {\n",
              "  background-color: #7ac665;\n",
              "  color: #000000;\n",
              "}\n",
              "#T_dccad_row10_col16 {\n",
              "  background-color: #57b65f;\n",
              "  color: #f1f1f1;\n",
              "}\n",
              "#T_dccad_row10_col17 {\n",
              "  background-color: #f4fab0;\n",
              "  color: #000000;\n",
              "}\n",
              "#T_dccad_row11_col0, #T_dccad_row16_col0 {\n",
              "  background-color: #fba05b;\n",
              "  color: #000000;\n",
              "}\n",
              "#T_dccad_row11_col8, #T_dccad_row12_col1, #T_dccad_row14_col8 {\n",
              "  background-color: #f46d43;\n",
              "  color: #f1f1f1;\n",
              "}\n",
              "#T_dccad_row11_col12 {\n",
              "  background-color: #93d168;\n",
              "  color: #000000;\n",
              "}\n",
              "#T_dccad_row11_col15, #T_dccad_row15_col11 {\n",
              "  background-color: #0a7b41;\n",
              "  color: #f1f1f1;\n",
              "}\n",
              "#T_dccad_row11_col16 {\n",
              "  background-color: #a5d86a;\n",
              "  color: #000000;\n",
              "}\n",
              "#T_dccad_row11_col17 {\n",
              "  background-color: #b3df72;\n",
              "  color: #000000;\n",
              "}\n",
              "#T_dccad_row12_col7 {\n",
              "  background-color: #d22b27;\n",
              "  color: #f1f1f1;\n",
              "}\n",
              "#T_dccad_row12_col10, #T_dccad_row12_col14, #T_dccad_row14_col16, #T_dccad_row17_col13 {\n",
              "  background-color: #33a456;\n",
              "  color: #f1f1f1;\n",
              "}\n",
              "#T_dccad_row12_col11 {\n",
              "  background-color: #82c966;\n",
              "  color: #000000;\n",
              "}\n",
              "#T_dccad_row12_col15, #T_dccad_row16_col11 {\n",
              "  background-color: #91d068;\n",
              "  color: #000000;\n",
              "}\n",
              "#T_dccad_row12_col17 {\n",
              "  background-color: #e95538;\n",
              "  color: #f1f1f1;\n",
              "}\n",
              "#T_dccad_row13_col8 {\n",
              "  background-color: #f88c51;\n",
              "  color: #f1f1f1;\n",
              "}\n",
              "#T_dccad_row13_col10 {\n",
              "  background-color: #7fc866;\n",
              "  color: #000000;\n",
              "}\n",
              "#T_dccad_row13_col14 {\n",
              "  background-color: #a2d76a;\n",
              "  color: #000000;\n",
              "}\n",
              "#T_dccad_row13_col15 {\n",
              "  background-color: #3faa59;\n",
              "  color: #f1f1f1;\n",
              "}\n",
              "#T_dccad_row13_col16 {\n",
              "  background-color: #fdbb6c;\n",
              "  color: #000000;\n",
              "}\n",
              "#T_dccad_row13_col17 {\n",
              "  background-color: #36a657;\n",
              "  color: #f1f1f1;\n",
              "}\n",
              "#T_dccad_row14_col2, #T_dccad_row17_col3 {\n",
              "  background-color: #bd1726;\n",
              "  color: #f1f1f1;\n",
              "}\n",
              "#T_dccad_row14_col10 {\n",
              "  background-color: #06733d;\n",
              "  color: #f1f1f1;\n",
              "}\n",
              "#T_dccad_row14_col12 {\n",
              "  background-color: #39a758;\n",
              "  color: #f1f1f1;\n",
              "}\n",
              "#T_dccad_row14_col13 {\n",
              "  background-color: #98d368;\n",
              "  color: #000000;\n",
              "}\n",
              "#T_dccad_row14_col15 {\n",
              "  background-color: #108647;\n",
              "  color: #f1f1f1;\n",
              "}\n",
              "#T_dccad_row14_col17 {\n",
              "  background-color: #fffebe;\n",
              "  color: #000000;\n",
              "}\n",
              "#T_dccad_row15_col0 {\n",
              "  background-color: #fcaa5f;\n",
              "  color: #000000;\n",
              "}\n",
              "#T_dccad_row15_col1 {\n",
              "  background-color: #da362a;\n",
              "  color: #f1f1f1;\n",
              "}\n",
              "#T_dccad_row15_col12 {\n",
              "  background-color: #a0d669;\n",
              "  color: #000000;\n",
              "}\n",
              "#T_dccad_row15_col16 {\n",
              "  background-color: #abdb6d;\n",
              "  color: #000000;\n",
              "}\n",
              "#T_dccad_row15_col17, #T_dccad_row17_col15 {\n",
              "  background-color: #8ccd67;\n",
              "  color: #000000;\n",
              "}\n",
              "#T_dccad_row16_col1 {\n",
              "  background-color: #f57547;\n",
              "  color: #f1f1f1;\n",
              "}\n",
              "#T_dccad_row16_col3 {\n",
              "  background-color: #d02927;\n",
              "  color: #f1f1f1;\n",
              "}\n",
              "#T_dccad_row16_col9, #T_dccad_row17_col12 {\n",
              "  background-color: #ce2827;\n",
              "  color: #f1f1f1;\n",
              "}\n",
              "#T_dccad_row16_col10 {\n",
              "  background-color: #4bb05c;\n",
              "  color: #f1f1f1;\n",
              "}\n",
              "#T_dccad_row16_col14 {\n",
              "  background-color: #2da155;\n",
              "  color: #f1f1f1;\n",
              "}\n",
              "#T_dccad_row16_col15 {\n",
              "  background-color: #9bd469;\n",
              "  color: #000000;\n",
              "}\n",
              "#T_dccad_row17_col8 {\n",
              "  background-color: #feca79;\n",
              "  color: #000000;\n",
              "}\n",
              "#T_dccad_row17_col10 {\n",
              "  background-color: #f5fbb2;\n",
              "  color: #000000;\n",
              "}\n",
              "#T_dccad_row17_col11 {\n",
              "  background-color: #b1de71;\n",
              "  color: #000000;\n",
              "}\n",
              "#T_dccad_row17_col14 {\n",
              "  background-color: #fffab6;\n",
              "  color: #000000;\n",
              "}\n",
              "</style>\n",
              "<table id=\"T_dccad\" class=\"dataframe\">\n",
              "  <thead>\n",
              "    <tr>\n",
              "      <th class=\"blank level0\" >&nbsp;</th>\n",
              "      <th id=\"T_dccad_level0_col0\" class=\"col_heading level0 col0\" >PRECTOT</th>\n",
              "      <th id=\"T_dccad_level0_col1\" class=\"col_heading level0 col1\" >PS</th>\n",
              "      <th id=\"T_dccad_level0_col2\" class=\"col_heading level0 col2\" >QV2M</th>\n",
              "      <th id=\"T_dccad_level0_col3\" class=\"col_heading level0 col3\" >T2M</th>\n",
              "      <th id=\"T_dccad_level0_col4\" class=\"col_heading level0 col4\" >T2MDEW</th>\n",
              "      <th id=\"T_dccad_level0_col5\" class=\"col_heading level0 col5\" >T2MWET</th>\n",
              "      <th id=\"T_dccad_level0_col6\" class=\"col_heading level0 col6\" >T2M_MAX</th>\n",
              "      <th id=\"T_dccad_level0_col7\" class=\"col_heading level0 col7\" >T2M_MIN</th>\n",
              "      <th id=\"T_dccad_level0_col8\" class=\"col_heading level0 col8\" >T2M_RANGE</th>\n",
              "      <th id=\"T_dccad_level0_col9\" class=\"col_heading level0 col9\" >TS</th>\n",
              "      <th id=\"T_dccad_level0_col10\" class=\"col_heading level0 col10\" >WS10M</th>\n",
              "      <th id=\"T_dccad_level0_col11\" class=\"col_heading level0 col11\" >WS10M_MAX</th>\n",
              "      <th id=\"T_dccad_level0_col12\" class=\"col_heading level0 col12\" >WS10M_MIN</th>\n",
              "      <th id=\"T_dccad_level0_col13\" class=\"col_heading level0 col13\" >WS10M_RANGE</th>\n",
              "      <th id=\"T_dccad_level0_col14\" class=\"col_heading level0 col14\" >WS50M</th>\n",
              "      <th id=\"T_dccad_level0_col15\" class=\"col_heading level0 col15\" >WS50M_MAX</th>\n",
              "      <th id=\"T_dccad_level0_col16\" class=\"col_heading level0 col16\" >WS50M_MIN</th>\n",
              "      <th id=\"T_dccad_level0_col17\" class=\"col_heading level0 col17\" >WS50M_RANGE</th>\n",
              "    </tr>\n",
              "  </thead>\n",
              "  <tbody>\n",
              "    <tr>\n",
              "      <th id=\"T_dccad_level0_row0\" class=\"row_heading level0 row0\" >PRECTOT</th>\n",
              "      <td id=\"T_dccad_row0_col0\" class=\"data row0 col0\" >1.000000</td>\n",
              "      <td id=\"T_dccad_row0_col1\" class=\"data row0 col1\" >0.068775</td>\n",
              "      <td id=\"T_dccad_row0_col2\" class=\"data row0 col2\" >0.245081</td>\n",
              "      <td id=\"T_dccad_row0_col3\" class=\"data row0 col3\" >0.093258</td>\n",
              "      <td id=\"T_dccad_row0_col4\" class=\"data row0 col4\" >0.231035</td>\n",
              "      <td id=\"T_dccad_row0_col5\" class=\"data row0 col5\" >0.230975</td>\n",
              "      <td id=\"T_dccad_row0_col6\" class=\"data row0 col6\" >0.026773</td>\n",
              "      <td id=\"T_dccad_row0_col7\" class=\"data row0 col7\" >0.144929</td>\n",
              "      <td id=\"T_dccad_row0_col8\" class=\"data row0 col8\" >-0.304171</td>\n",
              "      <td id=\"T_dccad_row0_col9\" class=\"data row0 col9\" >0.089598</td>\n",
              "      <td id=\"T_dccad_row0_col10\" class=\"data row0 col10\" >0.049730</td>\n",
              "      <td id=\"T_dccad_row0_col11\" class=\"data row0 col11\" >0.060981</td>\n",
              "      <td id=\"T_dccad_row0_col12\" class=\"data row0 col12\" >0.023346</td>\n",
              "      <td id=\"T_dccad_row0_col13\" class=\"data row0 col13\" >0.065755</td>\n",
              "      <td id=\"T_dccad_row0_col14\" class=\"data row0 col14\" >0.069057</td>\n",
              "      <td id=\"T_dccad_row0_col15\" class=\"data row0 col15\" >0.079508</td>\n",
              "      <td id=\"T_dccad_row0_col16\" class=\"data row0 col16\" >0.057816</td>\n",
              "      <td id=\"T_dccad_row0_col17\" class=\"data row0 col17\" >0.047477</td>\n",
              "    </tr>\n",
              "    <tr>\n",
              "      <th id=\"T_dccad_level0_row1\" class=\"row_heading level0 row1\" >PS</th>\n",
              "      <td id=\"T_dccad_row1_col0\" class=\"data row1 col0\" >0.068775</td>\n",
              "      <td id=\"T_dccad_row1_col1\" class=\"data row1 col1\" >1.000000</td>\n",
              "      <td id=\"T_dccad_row1_col2\" class=\"data row1 col2\" >0.282412</td>\n",
              "      <td id=\"T_dccad_row1_col3\" class=\"data row1 col3\" >0.164160</td>\n",
              "      <td id=\"T_dccad_row1_col4\" class=\"data row1 col4\" >0.341234</td>\n",
              "      <td id=\"T_dccad_row1_col5\" class=\"data row1 col5\" >0.341252</td>\n",
              "      <td id=\"T_dccad_row1_col6\" class=\"data row1 col6\" >0.111979</td>\n",
              "      <td id=\"T_dccad_row1_col7\" class=\"data row1 col7\" >0.208285</td>\n",
              "      <td id=\"T_dccad_row1_col8\" class=\"data row1 col8\" >-0.225935</td>\n",
              "      <td id=\"T_dccad_row1_col9\" class=\"data row1 col9\" >0.163830</td>\n",
              "      <td id=\"T_dccad_row1_col10\" class=\"data row1 col10\" >-0.080747</td>\n",
              "      <td id=\"T_dccad_row1_col11\" class=\"data row1 col11\" >-0.135905</td>\n",
              "      <td id=\"T_dccad_row1_col12\" class=\"data row1 col12\" >0.022932</td>\n",
              "      <td id=\"T_dccad_row1_col13\" class=\"data row1 col13\" >-0.198332</td>\n",
              "      <td id=\"T_dccad_row1_col14\" class=\"data row1 col14\" >-0.043315</td>\n",
              "      <td id=\"T_dccad_row1_col15\" class=\"data row1 col15\" >-0.091821</td>\n",
              "      <td id=\"T_dccad_row1_col16\" class=\"data row1 col16\" >0.036238</td>\n",
              "      <td id=\"T_dccad_row1_col17\" class=\"data row1 col17\" >-0.154479</td>\n",
              "    </tr>\n",
              "    <tr>\n",
              "      <th id=\"T_dccad_level0_row2\" class=\"row_heading level0 row2\" >QV2M</th>\n",
              "      <td id=\"T_dccad_row2_col0\" class=\"data row2 col0\" >0.245081</td>\n",
              "      <td id=\"T_dccad_row2_col1\" class=\"data row2 col1\" >0.282412</td>\n",
              "      <td id=\"T_dccad_row2_col2\" class=\"data row2 col2\" >1.000000</td>\n",
              "      <td id=\"T_dccad_row2_col3\" class=\"data row2 col3\" >0.870242</td>\n",
              "      <td id=\"T_dccad_row2_col4\" class=\"data row2 col4\" >0.959385</td>\n",
              "      <td id=\"T_dccad_row2_col5\" class=\"data row2 col5\" >0.960434</td>\n",
              "      <td id=\"T_dccad_row2_col6\" class=\"data row2 col6\" >0.804338</td>\n",
              "      <td id=\"T_dccad_row2_col7\" class=\"data row2 col7\" >0.906144</td>\n",
              "      <td id=\"T_dccad_row2_col8\" class=\"data row2 col8\" >-0.071547</td>\n",
              "      <td id=\"T_dccad_row2_col9\" class=\"data row2 col9\" >0.862559</td>\n",
              "      <td id=\"T_dccad_row2_col10\" class=\"data row2 col10\" >-0.225449</td>\n",
              "      <td id=\"T_dccad_row2_col11\" class=\"data row2 col11\" >-0.256452</td>\n",
              "      <td id=\"T_dccad_row2_col12\" class=\"data row2 col12\" >-0.108789</td>\n",
              "      <td id=\"T_dccad_row2_col13\" class=\"data row2 col13\" >-0.269203</td>\n",
              "      <td id=\"T_dccad_row2_col14\" class=\"data row2 col14\" >-0.205971</td>\n",
              "      <td id=\"T_dccad_row2_col15\" class=\"data row2 col15\" >-0.249961</td>\n",
              "      <td id=\"T_dccad_row2_col16\" class=\"data row2 col16\" >-0.081554</td>\n",
              "      <td id=\"T_dccad_row2_col17\" class=\"data row2 col17\" >-0.246203</td>\n",
              "    </tr>\n",
              "    <tr>\n",
              "      <th id=\"T_dccad_level0_row3\" class=\"row_heading level0 row3\" >T2M</th>\n",
              "      <td id=\"T_dccad_row3_col0\" class=\"data row3 col0\" >0.093258</td>\n",
              "      <td id=\"T_dccad_row3_col1\" class=\"data row3 col1\" >0.164160</td>\n",
              "      <td id=\"T_dccad_row3_col2\" class=\"data row3 col2\" >0.870242</td>\n",
              "      <td id=\"T_dccad_row3_col3\" class=\"data row3 col3\" >1.000000</td>\n",
              "      <td id=\"T_dccad_row3_col4\" class=\"data row3 col4\" >0.913530</td>\n",
              "      <td id=\"T_dccad_row3_col5\" class=\"data row3 col5\" >0.914218</td>\n",
              "      <td id=\"T_dccad_row3_col6\" class=\"data row3 col6\" >0.983356</td>\n",
              "      <td id=\"T_dccad_row3_col7\" class=\"data row3 col7\" >0.981629</td>\n",
              "      <td id=\"T_dccad_row3_col8\" class=\"data row3 col8\" >0.244357</td>\n",
              "      <td id=\"T_dccad_row3_col9\" class=\"data row3 col9\" >0.997515</td>\n",
              "      <td id=\"T_dccad_row3_col10\" class=\"data row3 col10\" >-0.207874</td>\n",
              "      <td id=\"T_dccad_row3_col11\" class=\"data row3 col11\" >-0.220192</td>\n",
              "      <td id=\"T_dccad_row3_col12\" class=\"data row3 col12\" >-0.125407</td>\n",
              "      <td id=\"T_dccad_row3_col13\" class=\"data row3 col13\" >-0.209030</td>\n",
              "      <td id=\"T_dccad_row3_col14\" class=\"data row3 col14\" >-0.193196</td>\n",
              "      <td id=\"T_dccad_row3_col15\" class=\"data row3 col15\" >-0.206444</td>\n",
              "      <td id=\"T_dccad_row3_col16\" class=\"data row3 col16\" >-0.112579</td>\n",
              "      <td id=\"T_dccad_row3_col17\" class=\"data row3 col17\" >-0.159589</td>\n",
              "    </tr>\n",
              "    <tr>\n",
              "      <th id=\"T_dccad_level0_row4\" class=\"row_heading level0 row4\" >T2MDEW</th>\n",
              "      <td id=\"T_dccad_row4_col0\" class=\"data row4 col0\" >0.231035</td>\n",
              "      <td id=\"T_dccad_row4_col1\" class=\"data row4 col1\" >0.341234</td>\n",
              "      <td id=\"T_dccad_row4_col2\" class=\"data row4 col2\" >0.959385</td>\n",
              "      <td id=\"T_dccad_row4_col3\" class=\"data row4 col3\" >0.913530</td>\n",
              "      <td id=\"T_dccad_row4_col4\" class=\"data row4 col4\" >1.000000</td>\n",
              "      <td id=\"T_dccad_row4_col5\" class=\"data row4 col5\" >0.999970</td>\n",
              "      <td id=\"T_dccad_row4_col6\" class=\"data row4 col6\" >0.854716</td>\n",
              "      <td id=\"T_dccad_row4_col7\" class=\"data row4 col7\" >0.939934</td>\n",
              "      <td id=\"T_dccad_row4_col8\" class=\"data row4 col8\" >-0.015643</td>\n",
              "      <td id=\"T_dccad_row4_col9\" class=\"data row4 col9\" >0.905184</td>\n",
              "      <td id=\"T_dccad_row4_col10\" class=\"data row4 col10\" >-0.238299</td>\n",
              "      <td id=\"T_dccad_row4_col11\" class=\"data row4 col11\" >-0.268686</td>\n",
              "      <td id=\"T_dccad_row4_col12\" class=\"data row4 col12\" >-0.115920</td>\n",
              "      <td id=\"T_dccad_row4_col13\" class=\"data row4 col13\" >-0.280702</td>\n",
              "      <td id=\"T_dccad_row4_col14\" class=\"data row4 col14\" >-0.204238</td>\n",
              "      <td id=\"T_dccad_row4_col15\" class=\"data row4 col15\" >-0.245323</td>\n",
              "      <td id=\"T_dccad_row4_col16\" class=\"data row4 col16\" >-0.082416</td>\n",
              "      <td id=\"T_dccad_row4_col17\" class=\"data row4 col17\" >-0.239335</td>\n",
              "    </tr>\n",
              "    <tr>\n",
              "      <th id=\"T_dccad_level0_row5\" class=\"row_heading level0 row5\" >T2MWET</th>\n",
              "      <td id=\"T_dccad_row5_col0\" class=\"data row5 col0\" >0.230975</td>\n",
              "      <td id=\"T_dccad_row5_col1\" class=\"data row5 col1\" >0.341252</td>\n",
              "      <td id=\"T_dccad_row5_col2\" class=\"data row5 col2\" >0.960434</td>\n",
              "      <td id=\"T_dccad_row5_col3\" class=\"data row5 col3\" >0.914218</td>\n",
              "      <td id=\"T_dccad_row5_col4\" class=\"data row5 col4\" >0.999970</td>\n",
              "      <td id=\"T_dccad_row5_col5\" class=\"data row5 col5\" >1.000000</td>\n",
              "      <td id=\"T_dccad_row5_col6\" class=\"data row5 col6\" >0.855401</td>\n",
              "      <td id=\"T_dccad_row5_col7\" class=\"data row5 col7\" >0.940629</td>\n",
              "      <td id=\"T_dccad_row5_col8\" class=\"data row5 col8\" >-0.015500</td>\n",
              "      <td id=\"T_dccad_row5_col9\" class=\"data row5 col9\" >0.905911</td>\n",
              "      <td id=\"T_dccad_row5_col10\" class=\"data row5 col10\" >-0.237971</td>\n",
              "      <td id=\"T_dccad_row5_col11\" class=\"data row5 col11\" >-0.268292</td>\n",
              "      <td id=\"T_dccad_row5_col12\" class=\"data row5 col12\" >-0.115882</td>\n",
              "      <td id=\"T_dccad_row5_col13\" class=\"data row5 col13\" >-0.280199</td>\n",
              "      <td id=\"T_dccad_row5_col14\" class=\"data row5 col14\" >-0.204143</td>\n",
              "      <td id=\"T_dccad_row5_col15\" class=\"data row5 col15\" >-0.245147</td>\n",
              "      <td id=\"T_dccad_row5_col16\" class=\"data row5 col16\" >-0.082497</td>\n",
              "      <td id=\"T_dccad_row5_col17\" class=\"data row5 col17\" >-0.239029</td>\n",
              "    </tr>\n",
              "    <tr>\n",
              "      <th id=\"T_dccad_level0_row6\" class=\"row_heading level0 row6\" >T2M_MAX</th>\n",
              "      <td id=\"T_dccad_row6_col0\" class=\"data row6 col0\" >0.026773</td>\n",
              "      <td id=\"T_dccad_row6_col1\" class=\"data row6 col1\" >0.111979</td>\n",
              "      <td id=\"T_dccad_row6_col2\" class=\"data row6 col2\" >0.804338</td>\n",
              "      <td id=\"T_dccad_row6_col3\" class=\"data row6 col3\" >0.983356</td>\n",
              "      <td id=\"T_dccad_row6_col4\" class=\"data row6 col4\" >0.854716</td>\n",
              "      <td id=\"T_dccad_row6_col5\" class=\"data row6 col5\" >0.855401</td>\n",
              "      <td id=\"T_dccad_row6_col6\" class=\"data row6 col6\" >1.000000</td>\n",
              "      <td id=\"T_dccad_row6_col7\" class=\"data row6 col7\" >0.937762</td>\n",
              "      <td id=\"T_dccad_row6_col8\" class=\"data row6 col8\" >0.407534</td>\n",
              "      <td id=\"T_dccad_row6_col9\" class=\"data row6 col9\" >0.980101</td>\n",
              "      <td id=\"T_dccad_row6_col10\" class=\"data row6 col10\" >-0.216764</td>\n",
              "      <td id=\"T_dccad_row6_col11\" class=\"data row6 col11\" >-0.221671</td>\n",
              "      <td id=\"T_dccad_row6_col12\" class=\"data row6 col12\" >-0.141911</td>\n",
              "      <td id=\"T_dccad_row6_col13\" class=\"data row6 col13\" >-0.199614</td>\n",
              "      <td id=\"T_dccad_row6_col14\" class=\"data row6 col14\" >-0.195727</td>\n",
              "      <td id=\"T_dccad_row6_col15\" class=\"data row6 col15\" >-0.196236</td>\n",
              "      <td id=\"T_dccad_row6_col16\" class=\"data row6 col16\" >-0.133234</td>\n",
              "      <td id=\"T_dccad_row6_col17\" class=\"data row6 col17\" >-0.126331</td>\n",
              "    </tr>\n",
              "    <tr>\n",
              "      <th id=\"T_dccad_level0_row7\" class=\"row_heading level0 row7\" >T2M_MIN</th>\n",
              "      <td id=\"T_dccad_row7_col0\" class=\"data row7 col0\" >0.144929</td>\n",
              "      <td id=\"T_dccad_row7_col1\" class=\"data row7 col1\" >0.208285</td>\n",
              "      <td id=\"T_dccad_row7_col2\" class=\"data row7 col2\" >0.906144</td>\n",
              "      <td id=\"T_dccad_row7_col3\" class=\"data row7 col3\" >0.981629</td>\n",
              "      <td id=\"T_dccad_row7_col4\" class=\"data row7 col4\" >0.939934</td>\n",
              "      <td id=\"T_dccad_row7_col5\" class=\"data row7 col5\" >0.940629</td>\n",
              "      <td id=\"T_dccad_row7_col6\" class=\"data row7 col6\" >0.937762</td>\n",
              "      <td id=\"T_dccad_row7_col7\" class=\"data row7 col7\" >1.000000</td>\n",
              "      <td id=\"T_dccad_row7_col8\" class=\"data row7 col8\" >0.065037</td>\n",
              "      <td id=\"T_dccad_row7_col9\" class=\"data row7 col9\" >0.979134</td>\n",
              "      <td id=\"T_dccad_row7_col10\" class=\"data row7 col10\" >-0.206382</td>\n",
              "      <td id=\"T_dccad_row7_col11\" class=\"data row7 col11\" >-0.225829</td>\n",
              "      <td id=\"T_dccad_row7_col12\" class=\"data row7 col12\" >-0.112878</td>\n",
              "      <td id=\"T_dccad_row7_col13\" class=\"data row7 col13\" >-0.225256</td>\n",
              "      <td id=\"T_dccad_row7_col14\" class=\"data row7 col14\" >-0.197991</td>\n",
              "      <td id=\"T_dccad_row7_col15\" class=\"data row7 col15\" >-0.225744</td>\n",
              "      <td id=\"T_dccad_row7_col16\" class=\"data row7 col16\" >-0.096593</td>\n",
              "      <td id=\"T_dccad_row7_col17\" class=\"data row7 col17\" >-0.200157</td>\n",
              "    </tr>\n",
              "    <tr>\n",
              "      <th id=\"T_dccad_level0_row8\" class=\"row_heading level0 row8\" >T2M_RANGE</th>\n",
              "      <td id=\"T_dccad_row8_col0\" class=\"data row8 col0\" >-0.304171</td>\n",
              "      <td id=\"T_dccad_row8_col1\" class=\"data row8 col1\" >-0.225935</td>\n",
              "      <td id=\"T_dccad_row8_col2\" class=\"data row8 col2\" >-0.071547</td>\n",
              "      <td id=\"T_dccad_row8_col3\" class=\"data row8 col3\" >0.244357</td>\n",
              "      <td id=\"T_dccad_row8_col4\" class=\"data row8 col4\" >-0.015643</td>\n",
              "      <td id=\"T_dccad_row8_col5\" class=\"data row8 col5\" >-0.015500</td>\n",
              "      <td id=\"T_dccad_row8_col6\" class=\"data row8 col6\" >0.407534</td>\n",
              "      <td id=\"T_dccad_row8_col7\" class=\"data row8 col7\" >0.065037</td>\n",
              "      <td id=\"T_dccad_row8_col8\" class=\"data row8 col8\" >1.000000</td>\n",
              "      <td id=\"T_dccad_row8_col9\" class=\"data row8 col9\" >0.241564</td>\n",
              "      <td id=\"T_dccad_row8_col10\" class=\"data row8 col10\" >-0.080163</td>\n",
              "      <td id=\"T_dccad_row8_col11\" class=\"data row8 col11\" >-0.043127</td>\n",
              "      <td id=\"T_dccad_row8_col12\" class=\"data row8 col12\" >-0.110952</td>\n",
              "      <td id=\"T_dccad_row8_col13\" class=\"data row8 col13\" >0.018746</td>\n",
              "      <td id=\"T_dccad_row8_col14\" class=\"data row8 col14\" >-0.041778</td>\n",
              "      <td id=\"T_dccad_row8_col15\" class=\"data row8 col15\" >0.029737</td>\n",
              "      <td id=\"T_dccad_row8_col16\" class=\"data row8 col16\" >-0.128844</td>\n",
              "      <td id=\"T_dccad_row8_col17\" class=\"data row8 col17\" >0.163320</td>\n",
              "    </tr>\n",
              "    <tr>\n",
              "      <th id=\"T_dccad_level0_row9\" class=\"row_heading level0 row9\" >TS</th>\n",
              "      <td id=\"T_dccad_row9_col0\" class=\"data row9 col0\" >0.089598</td>\n",
              "      <td id=\"T_dccad_row9_col1\" class=\"data row9 col1\" >0.163830</td>\n",
              "      <td id=\"T_dccad_row9_col2\" class=\"data row9 col2\" >0.862559</td>\n",
              "      <td id=\"T_dccad_row9_col3\" class=\"data row9 col3\" >0.997515</td>\n",
              "      <td id=\"T_dccad_row9_col4\" class=\"data row9 col4\" >0.905184</td>\n",
              "      <td id=\"T_dccad_row9_col5\" class=\"data row9 col5\" >0.905911</td>\n",
              "      <td id=\"T_dccad_row9_col6\" class=\"data row9 col6\" >0.980101</td>\n",
              "      <td id=\"T_dccad_row9_col7\" class=\"data row9 col7\" >0.979134</td>\n",
              "      <td id=\"T_dccad_row9_col8\" class=\"data row9 col8\" >0.241564</td>\n",
              "      <td id=\"T_dccad_row9_col9\" class=\"data row9 col9\" >1.000000</td>\n",
              "      <td id=\"T_dccad_row9_col10\" class=\"data row9 col10\" >-0.189823</td>\n",
              "      <td id=\"T_dccad_row9_col11\" class=\"data row9 col11\" >-0.202713</td>\n",
              "      <td id=\"T_dccad_row9_col12\" class=\"data row9 col12\" >-0.110273</td>\n",
              "      <td id=\"T_dccad_row9_col13\" class=\"data row9 col13\" >-0.196015</td>\n",
              "      <td id=\"T_dccad_row9_col14\" class=\"data row9 col14\" >-0.180665</td>\n",
              "      <td id=\"T_dccad_row9_col15\" class=\"data row9 col15\" >-0.193347</td>\n",
              "      <td id=\"T_dccad_row9_col16\" class=\"data row9 col16\" >-0.102367</td>\n",
              "      <td id=\"T_dccad_row9_col17\" class=\"data row9 col17\" >-0.152434</td>\n",
              "    </tr>\n",
              "    <tr>\n",
              "      <th id=\"T_dccad_level0_row10\" class=\"row_heading level0 row10\" >WS10M</th>\n",
              "      <td id=\"T_dccad_row10_col0\" class=\"data row10 col0\" >0.049730</td>\n",
              "      <td id=\"T_dccad_row10_col1\" class=\"data row10 col1\" >-0.080747</td>\n",
              "      <td id=\"T_dccad_row10_col2\" class=\"data row10 col2\" >-0.225449</td>\n",
              "      <td id=\"T_dccad_row10_col3\" class=\"data row10 col3\" >-0.207874</td>\n",
              "      <td id=\"T_dccad_row10_col4\" class=\"data row10 col4\" >-0.238299</td>\n",
              "      <td id=\"T_dccad_row10_col5\" class=\"data row10 col5\" >-0.237971</td>\n",
              "      <td id=\"T_dccad_row10_col6\" class=\"data row10 col6\" >-0.216764</td>\n",
              "      <td id=\"T_dccad_row10_col7\" class=\"data row10 col7\" >-0.206382</td>\n",
              "      <td id=\"T_dccad_row10_col8\" class=\"data row10 col8\" >-0.080163</td>\n",
              "      <td id=\"T_dccad_row10_col9\" class=\"data row10 col9\" >-0.189823</td>\n",
              "      <td id=\"T_dccad_row10_col10\" class=\"data row10 col10\" >1.000000</td>\n",
              "      <td id=\"T_dccad_row10_col11\" class=\"data row10 col11\" >0.952217</td>\n",
              "      <td id=\"T_dccad_row10_col12\" class=\"data row10 col12\" >0.833340</td>\n",
              "      <td id=\"T_dccad_row10_col13\" class=\"data row10 col13\" >0.702896</td>\n",
              "      <td id=\"T_dccad_row10_col14\" class=\"data row10 col14\" >0.966275</td>\n",
              "      <td id=\"T_dccad_row10_col15\" class=\"data row10 col15\" >0.908750</td>\n",
              "      <td id=\"T_dccad_row10_col16\" class=\"data row10 col16\" >0.795424</td>\n",
              "      <td id=\"T_dccad_row10_col17\" class=\"data row10 col17\" >0.412412</td>\n",
              "    </tr>\n",
              "    <tr>\n",
              "      <th id=\"T_dccad_level0_row11\" class=\"row_heading level0 row11\" >WS10M_MAX</th>\n",
              "      <td id=\"T_dccad_row11_col0\" class=\"data row11 col0\" >0.060981</td>\n",
              "      <td id=\"T_dccad_row11_col1\" class=\"data row11 col1\" >-0.135905</td>\n",
              "      <td id=\"T_dccad_row11_col2\" class=\"data row11 col2\" >-0.256452</td>\n",
              "      <td id=\"T_dccad_row11_col3\" class=\"data row11 col3\" >-0.220192</td>\n",
              "      <td id=\"T_dccad_row11_col4\" class=\"data row11 col4\" >-0.268686</td>\n",
              "      <td id=\"T_dccad_row11_col5\" class=\"data row11 col5\" >-0.268292</td>\n",
              "      <td id=\"T_dccad_row11_col6\" class=\"data row11 col6\" >-0.221671</td>\n",
              "      <td id=\"T_dccad_row11_col7\" class=\"data row11 col7\" >-0.225829</td>\n",
              "      <td id=\"T_dccad_row11_col8\" class=\"data row11 col8\" >-0.043127</td>\n",
              "      <td id=\"T_dccad_row11_col9\" class=\"data row11 col9\" >-0.202713</td>\n",
              "      <td id=\"T_dccad_row11_col10\" class=\"data row11 col10\" >0.952217</td>\n",
              "      <td id=\"T_dccad_row11_col11\" class=\"data row11 col11\" >1.000000</td>\n",
              "      <td id=\"T_dccad_row11_col12\" class=\"data row11 col12\" >0.690087</td>\n",
              "      <td id=\"T_dccad_row11_col13\" class=\"data row11 col13\" >0.866026</td>\n",
              "      <td id=\"T_dccad_row11_col14\" class=\"data row11 col14\" >0.910717</td>\n",
              "      <td id=\"T_dccad_row11_col15\" class=\"data row11 col15\" >0.946710</td>\n",
              "      <td id=\"T_dccad_row11_col16\" class=\"data row11 col16\" >0.660428</td>\n",
              "      <td id=\"T_dccad_row11_col17\" class=\"data row11 col17\" >0.592380</td>\n",
              "    </tr>\n",
              "    <tr>\n",
              "      <th id=\"T_dccad_level0_row12\" class=\"row_heading level0 row12\" >WS10M_MIN</th>\n",
              "      <td id=\"T_dccad_row12_col0\" class=\"data row12 col0\" >0.023346</td>\n",
              "      <td id=\"T_dccad_row12_col1\" class=\"data row12 col1\" >0.022932</td>\n",
              "      <td id=\"T_dccad_row12_col2\" class=\"data row12 col2\" >-0.108789</td>\n",
              "      <td id=\"T_dccad_row12_col3\" class=\"data row12 col3\" >-0.125407</td>\n",
              "      <td id=\"T_dccad_row12_col4\" class=\"data row12 col4\" >-0.115920</td>\n",
              "      <td id=\"T_dccad_row12_col5\" class=\"data row12 col5\" >-0.115882</td>\n",
              "      <td id=\"T_dccad_row12_col6\" class=\"data row12 col6\" >-0.141911</td>\n",
              "      <td id=\"T_dccad_row12_col7\" class=\"data row12 col7\" >-0.112878</td>\n",
              "      <td id=\"T_dccad_row12_col8\" class=\"data row12 col8\" >-0.110952</td>\n",
              "      <td id=\"T_dccad_row12_col9\" class=\"data row12 col9\" >-0.110273</td>\n",
              "      <td id=\"T_dccad_row12_col10\" class=\"data row12 col10\" >0.833340</td>\n",
              "      <td id=\"T_dccad_row12_col11\" class=\"data row12 col11\" >0.690087</td>\n",
              "      <td id=\"T_dccad_row12_col12\" class=\"data row12 col12\" >1.000000</td>\n",
              "      <td id=\"T_dccad_row12_col13\" class=\"data row12 col13\" >0.235775</td>\n",
              "      <td id=\"T_dccad_row12_col14\" class=\"data row12 col14\" >0.839187</td>\n",
              "      <td id=\"T_dccad_row12_col15\" class=\"data row12 col15\" >0.666629</td>\n",
              "      <td id=\"T_dccad_row12_col16\" class=\"data row12 col16\" >0.943983</td>\n",
              "      <td id=\"T_dccad_row12_col17\" class=\"data row12 col17\" >-0.046209</td>\n",
              "    </tr>\n",
              "    <tr>\n",
              "      <th id=\"T_dccad_level0_row13\" class=\"row_heading level0 row13\" >WS10M_RANGE</th>\n",
              "      <td id=\"T_dccad_row13_col0\" class=\"data row13 col0\" >0.065755</td>\n",
              "      <td id=\"T_dccad_row13_col1\" class=\"data row13 col1\" >-0.198332</td>\n",
              "      <td id=\"T_dccad_row13_col2\" class=\"data row13 col2\" >-0.269203</td>\n",
              "      <td id=\"T_dccad_row13_col3\" class=\"data row13 col3\" >-0.209030</td>\n",
              "      <td id=\"T_dccad_row13_col4\" class=\"data row13 col4\" >-0.280702</td>\n",
              "      <td id=\"T_dccad_row13_col5\" class=\"data row13 col5\" >-0.280199</td>\n",
              "      <td id=\"T_dccad_row13_col6\" class=\"data row13 col6\" >-0.199614</td>\n",
              "      <td id=\"T_dccad_row13_col7\" class=\"data row13 col7\" >-0.225256</td>\n",
              "      <td id=\"T_dccad_row13_col8\" class=\"data row13 col8\" >0.018746</td>\n",
              "      <td id=\"T_dccad_row13_col9\" class=\"data row13 col9\" >-0.196015</td>\n",
              "      <td id=\"T_dccad_row13_col10\" class=\"data row13 col10\" >0.702896</td>\n",
              "      <td id=\"T_dccad_row13_col11\" class=\"data row13 col11\" >0.866026</td>\n",
              "      <td id=\"T_dccad_row13_col12\" class=\"data row13 col12\" >0.235775</td>\n",
              "      <td id=\"T_dccad_row13_col13\" class=\"data row13 col13\" >1.000000</td>\n",
              "      <td id=\"T_dccad_row13_col14\" class=\"data row13 col14\" >0.643131</td>\n",
              "      <td id=\"T_dccad_row13_col15\" class=\"data row13 col15\" >0.810677</td>\n",
              "      <td id=\"T_dccad_row13_col16\" class=\"data row13 col16\" >0.234645</td>\n",
              "      <td id=\"T_dccad_row13_col17\" class=\"data row13 col17\" >0.827364</td>\n",
              "    </tr>\n",
              "    <tr>\n",
              "      <th id=\"T_dccad_level0_row14\" class=\"row_heading level0 row14\" >WS50M</th>\n",
              "      <td id=\"T_dccad_row14_col0\" class=\"data row14 col0\" >0.069057</td>\n",
              "      <td id=\"T_dccad_row14_col1\" class=\"data row14 col1\" >-0.043315</td>\n",
              "      <td id=\"T_dccad_row14_col2\" class=\"data row14 col2\" >-0.205971</td>\n",
              "      <td id=\"T_dccad_row14_col3\" class=\"data row14 col3\" >-0.193196</td>\n",
              "      <td id=\"T_dccad_row14_col4\" class=\"data row14 col4\" >-0.204238</td>\n",
              "      <td id=\"T_dccad_row14_col5\" class=\"data row14 col5\" >-0.204143</td>\n",
              "      <td id=\"T_dccad_row14_col6\" class=\"data row14 col6\" >-0.195727</td>\n",
              "      <td id=\"T_dccad_row14_col7\" class=\"data row14 col7\" >-0.197991</td>\n",
              "      <td id=\"T_dccad_row14_col8\" class=\"data row14 col8\" >-0.041778</td>\n",
              "      <td id=\"T_dccad_row14_col9\" class=\"data row14 col9\" >-0.180665</td>\n",
              "      <td id=\"T_dccad_row14_col10\" class=\"data row14 col10\" >0.966275</td>\n",
              "      <td id=\"T_dccad_row14_col11\" class=\"data row14 col11\" >0.910717</td>\n",
              "      <td id=\"T_dccad_row14_col12\" class=\"data row14 col12\" >0.839187</td>\n",
              "      <td id=\"T_dccad_row14_col13\" class=\"data row14 col13\" >0.643131</td>\n",
              "      <td id=\"T_dccad_row14_col14\" class=\"data row14 col14\" >1.000000</td>\n",
              "      <td id=\"T_dccad_row14_col15\" class=\"data row14 col15\" >0.917883</td>\n",
              "      <td id=\"T_dccad_row14_col16\" class=\"data row14 col16\" >0.847885</td>\n",
              "      <td id=\"T_dccad_row14_col17\" class=\"data row14 col17\" >0.373539</td>\n",
              "    </tr>\n",
              "    <tr>\n",
              "      <th id=\"T_dccad_level0_row15\" class=\"row_heading level0 row15\" >WS50M_MAX</th>\n",
              "      <td id=\"T_dccad_row15_col0\" class=\"data row15 col0\" >0.079508</td>\n",
              "      <td id=\"T_dccad_row15_col1\" class=\"data row15 col1\" >-0.091821</td>\n",
              "      <td id=\"T_dccad_row15_col2\" class=\"data row15 col2\" >-0.249961</td>\n",
              "      <td id=\"T_dccad_row15_col3\" class=\"data row15 col3\" >-0.206444</td>\n",
              "      <td id=\"T_dccad_row15_col4\" class=\"data row15 col4\" >-0.245323</td>\n",
              "      <td id=\"T_dccad_row15_col5\" class=\"data row15 col5\" >-0.245147</td>\n",
              "      <td id=\"T_dccad_row15_col6\" class=\"data row15 col6\" >-0.196236</td>\n",
              "      <td id=\"T_dccad_row15_col7\" class=\"data row15 col7\" >-0.225744</td>\n",
              "      <td id=\"T_dccad_row15_col8\" class=\"data row15 col8\" >0.029737</td>\n",
              "      <td id=\"T_dccad_row15_col9\" class=\"data row15 col9\" >-0.193347</td>\n",
              "      <td id=\"T_dccad_row15_col10\" class=\"data row15 col10\" >0.908750</td>\n",
              "      <td id=\"T_dccad_row15_col11\" class=\"data row15 col11\" >0.946710</td>\n",
              "      <td id=\"T_dccad_row15_col12\" class=\"data row15 col12\" >0.666629</td>\n",
              "      <td id=\"T_dccad_row15_col13\" class=\"data row15 col13\" >0.810677</td>\n",
              "      <td id=\"T_dccad_row15_col14\" class=\"data row15 col14\" >0.917883</td>\n",
              "      <td id=\"T_dccad_row15_col15\" class=\"data row15 col15\" >1.000000</td>\n",
              "      <td id=\"T_dccad_row15_col16\" class=\"data row15 col16\" >0.646726</td>\n",
              "      <td id=\"T_dccad_row15_col17\" class=\"data row15 col17\" >0.674944</td>\n",
              "    </tr>\n",
              "    <tr>\n",
              "      <th id=\"T_dccad_level0_row16\" class=\"row_heading level0 row16\" >WS50M_MIN</th>\n",
              "      <td id=\"T_dccad_row16_col0\" class=\"data row16 col0\" >0.057816</td>\n",
              "      <td id=\"T_dccad_row16_col1\" class=\"data row16 col1\" >0.036238</td>\n",
              "      <td id=\"T_dccad_row16_col2\" class=\"data row16 col2\" >-0.081554</td>\n",
              "      <td id=\"T_dccad_row16_col3\" class=\"data row16 col3\" >-0.112579</td>\n",
              "      <td id=\"T_dccad_row16_col4\" class=\"data row16 col4\" >-0.082416</td>\n",
              "      <td id=\"T_dccad_row16_col5\" class=\"data row16 col5\" >-0.082497</td>\n",
              "      <td id=\"T_dccad_row16_col6\" class=\"data row16 col6\" >-0.133234</td>\n",
              "      <td id=\"T_dccad_row16_col7\" class=\"data row16 col7\" >-0.096593</td>\n",
              "      <td id=\"T_dccad_row16_col8\" class=\"data row16 col8\" >-0.128844</td>\n",
              "      <td id=\"T_dccad_row16_col9\" class=\"data row16 col9\" >-0.102367</td>\n",
              "      <td id=\"T_dccad_row16_col10\" class=\"data row16 col10\" >0.795424</td>\n",
              "      <td id=\"T_dccad_row16_col11\" class=\"data row16 col11\" >0.660428</td>\n",
              "      <td id=\"T_dccad_row16_col12\" class=\"data row16 col12\" >0.943983</td>\n",
              "      <td id=\"T_dccad_row16_col13\" class=\"data row16 col13\" >0.234645</td>\n",
              "      <td id=\"T_dccad_row16_col14\" class=\"data row16 col14\" >0.847885</td>\n",
              "      <td id=\"T_dccad_row16_col15\" class=\"data row16 col15\" >0.646726</td>\n",
              "      <td id=\"T_dccad_row16_col16\" class=\"data row16 col16\" >1.000000</td>\n",
              "      <td id=\"T_dccad_row16_col17\" class=\"data row16 col17\" >-0.126283</td>\n",
              "    </tr>\n",
              "    <tr>\n",
              "      <th id=\"T_dccad_level0_row17\" class=\"row_heading level0 row17\" >WS50M_RANGE</th>\n",
              "      <td id=\"T_dccad_row17_col0\" class=\"data row17 col0\" >0.047477</td>\n",
              "      <td id=\"T_dccad_row17_col1\" class=\"data row17 col1\" >-0.154479</td>\n",
              "      <td id=\"T_dccad_row17_col2\" class=\"data row17 col2\" >-0.246203</td>\n",
              "      <td id=\"T_dccad_row17_col3\" class=\"data row17 col3\" >-0.159589</td>\n",
              "      <td id=\"T_dccad_row17_col4\" class=\"data row17 col4\" >-0.239335</td>\n",
              "      <td id=\"T_dccad_row17_col5\" class=\"data row17 col5\" >-0.239029</td>\n",
              "      <td id=\"T_dccad_row17_col6\" class=\"data row17 col6\" >-0.126331</td>\n",
              "      <td id=\"T_dccad_row17_col7\" class=\"data row17 col7\" >-0.200157</td>\n",
              "      <td id=\"T_dccad_row17_col8\" class=\"data row17 col8\" >0.163320</td>\n",
              "      <td id=\"T_dccad_row17_col9\" class=\"data row17 col9\" >-0.152434</td>\n",
              "      <td id=\"T_dccad_row17_col10\" class=\"data row17 col10\" >0.412412</td>\n",
              "      <td id=\"T_dccad_row17_col11\" class=\"data row17 col11\" >0.592380</td>\n",
              "      <td id=\"T_dccad_row17_col12\" class=\"data row17 col12\" >-0.046209</td>\n",
              "      <td id=\"T_dccad_row17_col13\" class=\"data row17 col13\" >0.827364</td>\n",
              "      <td id=\"T_dccad_row17_col14\" class=\"data row17 col14\" >0.373539</td>\n",
              "      <td id=\"T_dccad_row17_col15\" class=\"data row17 col15\" >0.674944</td>\n",
              "      <td id=\"T_dccad_row17_col16\" class=\"data row17 col16\" >-0.126283</td>\n",
              "      <td id=\"T_dccad_row17_col17\" class=\"data row17 col17\" >1.000000</td>\n",
              "    </tr>\n",
              "  </tbody>\n",
              "</table>\n"
            ]
          },
          "metadata": {},
          "execution_count": 10
        }
      ]
    },
    {
      "cell_type": "code",
      "execution_count": null,
      "metadata": {
        "colab": {
          "base_uri": "https://localhost:8080/"
        },
        "id": "M239AHzpp3iq",
        "outputId": "52d3842e-bf38-44db-b1d1-33222ebc2881"
      },
      "outputs": [
        {
          "output_type": "execute_result",
          "data": {
            "text/plain": [
              "fips             int64\n",
              "date            object\n",
              "PRECTOT        float64\n",
              "PS             float64\n",
              "QV2M           float64\n",
              "T2M            float64\n",
              "T2MDEW         float64\n",
              "T2MWET         float64\n",
              "T2M_MAX        float64\n",
              "T2M_MIN        float64\n",
              "T2M_RANGE      float64\n",
              "TS             float64\n",
              "WS10M          float64\n",
              "WS10M_MAX      float64\n",
              "WS10M_MIN      float64\n",
              "WS10M_RANGE    float64\n",
              "WS50M          float64\n",
              "WS50M_MAX      float64\n",
              "WS50M_MIN      float64\n",
              "WS50M_RANGE    float64\n",
              "score            int64\n",
              "year             int64\n",
              "month            int64\n",
              "day              int64\n",
              "dtype: object"
            ]
          },
          "metadata": {},
          "execution_count": 11
        }
      ],
      "source": [
        "drought_df['year'] = pd.DatetimeIndex(drought_df['date']).year\n",
        "drought_df['month'] = pd.DatetimeIndex(drought_df['date']).month\n",
        "drought_df['day'] = pd.DatetimeIndex(drought_df['date']).day\n",
        "drought_df['score'] = drought_df['score'].round().astype(int)\n",
        "drought_df.dtypes"
      ]
    },
    {
      "cell_type": "code",
      "execution_count": null,
      "metadata": {
        "colab": {
          "base_uri": "https://localhost:8080/",
          "height": 299
        },
        "id": "by9iAreuqLrQ",
        "outputId": "da371e54-e761-45f9-cc1c-8d8a16e6f745"
      },
      "outputs": [
        {
          "output_type": "execute_result",
          "data": {
            "text/plain": [
              "    PRECTOT      PS  QV2M    T2M  T2MDEW  T2MWET  T2M_MAX  T2M_MIN  T2M_RANGE  \\\n",
              "3     15.95  100.29  6.42  11.40    6.09    6.10    18.09     2.16      15.92   \n",
              "10     1.33  100.40  6.63  11.48    7.84    7.84    18.88     5.72      13.16   \n",
              "17     1.11  100.39  9.53  14.28   13.26   13.26    18.04     8.98       9.06   \n",
              "24     0.00  100.11  2.05  -0.78   -7.93   -7.72     5.65    -5.46      11.11   \n",
              "31     0.00  101.00  3.36   2.06   -1.73   -1.70    11.02    -4.21      15.23   \n",
              "\n",
              "       TS  ...  WS10M_MAX  WS10M_MIN  WS10M_RANGE  WS50M  WS50M_MAX  \\\n",
              "3   11.31  ...       5.67       2.08         3.59   6.73       9.31   \n",
              "10  10.43  ...       2.48       1.05         1.43   3.55       6.38   \n",
              "17  14.19  ...       3.60       1.67         1.92   5.19       6.40   \n",
              "24  -0.61  ...       4.59       2.28         2.32   5.75       8.03   \n",
              "31   1.88  ...       2.74       0.88         1.86   4.18       6.38   \n",
              "\n",
              "    WS50M_MIN  WS50M_RANGE  year  month  day  \n",
              "3        3.74         5.58  2000      1    4  \n",
              "10       1.71         4.67  2000      1   11  \n",
              "17       3.84         2.55  2000      1   18  \n",
              "24       3.96         4.07  2000      1   25  \n",
              "31       1.27         5.11  2000      2    1  \n",
              "\n",
              "[5 rows x 21 columns]"
            ],
            "text/html": [
              "\n",
              "  <div id=\"df-58028a45-30e8-419d-80de-8d26c7282860\">\n",
              "    <div class=\"colab-df-container\">\n",
              "      <div>\n",
              "<style scoped>\n",
              "    .dataframe tbody tr th:only-of-type {\n",
              "        vertical-align: middle;\n",
              "    }\n",
              "\n",
              "    .dataframe tbody tr th {\n",
              "        vertical-align: top;\n",
              "    }\n",
              "\n",
              "    .dataframe thead th {\n",
              "        text-align: right;\n",
              "    }\n",
              "</style>\n",
              "<table border=\"1\" class=\"dataframe\">\n",
              "  <thead>\n",
              "    <tr style=\"text-align: right;\">\n",
              "      <th></th>\n",
              "      <th>PRECTOT</th>\n",
              "      <th>PS</th>\n",
              "      <th>QV2M</th>\n",
              "      <th>T2M</th>\n",
              "      <th>T2MDEW</th>\n",
              "      <th>T2MWET</th>\n",
              "      <th>T2M_MAX</th>\n",
              "      <th>T2M_MIN</th>\n",
              "      <th>T2M_RANGE</th>\n",
              "      <th>TS</th>\n",
              "      <th>...</th>\n",
              "      <th>WS10M_MAX</th>\n",
              "      <th>WS10M_MIN</th>\n",
              "      <th>WS10M_RANGE</th>\n",
              "      <th>WS50M</th>\n",
              "      <th>WS50M_MAX</th>\n",
              "      <th>WS50M_MIN</th>\n",
              "      <th>WS50M_RANGE</th>\n",
              "      <th>year</th>\n",
              "      <th>month</th>\n",
              "      <th>day</th>\n",
              "    </tr>\n",
              "  </thead>\n",
              "  <tbody>\n",
              "    <tr>\n",
              "      <th>3</th>\n",
              "      <td>15.95</td>\n",
              "      <td>100.29</td>\n",
              "      <td>6.42</td>\n",
              "      <td>11.40</td>\n",
              "      <td>6.09</td>\n",
              "      <td>6.10</td>\n",
              "      <td>18.09</td>\n",
              "      <td>2.16</td>\n",
              "      <td>15.92</td>\n",
              "      <td>11.31</td>\n",
              "      <td>...</td>\n",
              "      <td>5.67</td>\n",
              "      <td>2.08</td>\n",
              "      <td>3.59</td>\n",
              "      <td>6.73</td>\n",
              "      <td>9.31</td>\n",
              "      <td>3.74</td>\n",
              "      <td>5.58</td>\n",
              "      <td>2000</td>\n",
              "      <td>1</td>\n",
              "      <td>4</td>\n",
              "    </tr>\n",
              "    <tr>\n",
              "      <th>10</th>\n",
              "      <td>1.33</td>\n",
              "      <td>100.40</td>\n",
              "      <td>6.63</td>\n",
              "      <td>11.48</td>\n",
              "      <td>7.84</td>\n",
              "      <td>7.84</td>\n",
              "      <td>18.88</td>\n",
              "      <td>5.72</td>\n",
              "      <td>13.16</td>\n",
              "      <td>10.43</td>\n",
              "      <td>...</td>\n",
              "      <td>2.48</td>\n",
              "      <td>1.05</td>\n",
              "      <td>1.43</td>\n",
              "      <td>3.55</td>\n",
              "      <td>6.38</td>\n",
              "      <td>1.71</td>\n",
              "      <td>4.67</td>\n",
              "      <td>2000</td>\n",
              "      <td>1</td>\n",
              "      <td>11</td>\n",
              "    </tr>\n",
              "    <tr>\n",
              "      <th>17</th>\n",
              "      <td>1.11</td>\n",
              "      <td>100.39</td>\n",
              "      <td>9.53</td>\n",
              "      <td>14.28</td>\n",
              "      <td>13.26</td>\n",
              "      <td>13.26</td>\n",
              "      <td>18.04</td>\n",
              "      <td>8.98</td>\n",
              "      <td>9.06</td>\n",
              "      <td>14.19</td>\n",
              "      <td>...</td>\n",
              "      <td>3.60</td>\n",
              "      <td>1.67</td>\n",
              "      <td>1.92</td>\n",
              "      <td>5.19</td>\n",
              "      <td>6.40</td>\n",
              "      <td>3.84</td>\n",
              "      <td>2.55</td>\n",
              "      <td>2000</td>\n",
              "      <td>1</td>\n",
              "      <td>18</td>\n",
              "    </tr>\n",
              "    <tr>\n",
              "      <th>24</th>\n",
              "      <td>0.00</td>\n",
              "      <td>100.11</td>\n",
              "      <td>2.05</td>\n",
              "      <td>-0.78</td>\n",
              "      <td>-7.93</td>\n",
              "      <td>-7.72</td>\n",
              "      <td>5.65</td>\n",
              "      <td>-5.46</td>\n",
              "      <td>11.11</td>\n",
              "      <td>-0.61</td>\n",
              "      <td>...</td>\n",
              "      <td>4.59</td>\n",
              "      <td>2.28</td>\n",
              "      <td>2.32</td>\n",
              "      <td>5.75</td>\n",
              "      <td>8.03</td>\n",
              "      <td>3.96</td>\n",
              "      <td>4.07</td>\n",
              "      <td>2000</td>\n",
              "      <td>1</td>\n",
              "      <td>25</td>\n",
              "    </tr>\n",
              "    <tr>\n",
              "      <th>31</th>\n",
              "      <td>0.00</td>\n",
              "      <td>101.00</td>\n",
              "      <td>3.36</td>\n",
              "      <td>2.06</td>\n",
              "      <td>-1.73</td>\n",
              "      <td>-1.70</td>\n",
              "      <td>11.02</td>\n",
              "      <td>-4.21</td>\n",
              "      <td>15.23</td>\n",
              "      <td>1.88</td>\n",
              "      <td>...</td>\n",
              "      <td>2.74</td>\n",
              "      <td>0.88</td>\n",
              "      <td>1.86</td>\n",
              "      <td>4.18</td>\n",
              "      <td>6.38</td>\n",
              "      <td>1.27</td>\n",
              "      <td>5.11</td>\n",
              "      <td>2000</td>\n",
              "      <td>2</td>\n",
              "      <td>1</td>\n",
              "    </tr>\n",
              "  </tbody>\n",
              "</table>\n",
              "<p>5 rows × 21 columns</p>\n",
              "</div>\n",
              "      <button class=\"colab-df-convert\" onclick=\"convertToInteractive('df-58028a45-30e8-419d-80de-8d26c7282860')\"\n",
              "              title=\"Convert this dataframe to an interactive table.\"\n",
              "              style=\"display:none;\">\n",
              "        \n",
              "  <svg xmlns=\"http://www.w3.org/2000/svg\" height=\"24px\"viewBox=\"0 0 24 24\"\n",
              "       width=\"24px\">\n",
              "    <path d=\"M0 0h24v24H0V0z\" fill=\"none\"/>\n",
              "    <path d=\"M18.56 5.44l.94 2.06.94-2.06 2.06-.94-2.06-.94-.94-2.06-.94 2.06-2.06.94zm-11 1L8.5 8.5l.94-2.06 2.06-.94-2.06-.94L8.5 2.5l-.94 2.06-2.06.94zm10 10l.94 2.06.94-2.06 2.06-.94-2.06-.94-.94-2.06-.94 2.06-2.06.94z\"/><path d=\"M17.41 7.96l-1.37-1.37c-.4-.4-.92-.59-1.43-.59-.52 0-1.04.2-1.43.59L10.3 9.45l-7.72 7.72c-.78.78-.78 2.05 0 2.83L4 21.41c.39.39.9.59 1.41.59.51 0 1.02-.2 1.41-.59l7.78-7.78 2.81-2.81c.8-.78.8-2.07 0-2.86zM5.41 20L4 18.59l7.72-7.72 1.47 1.35L5.41 20z\"/>\n",
              "  </svg>\n",
              "      </button>\n",
              "      \n",
              "  <style>\n",
              "    .colab-df-container {\n",
              "      display:flex;\n",
              "      flex-wrap:wrap;\n",
              "      gap: 12px;\n",
              "    }\n",
              "\n",
              "    .colab-df-convert {\n",
              "      background-color: #E8F0FE;\n",
              "      border: none;\n",
              "      border-radius: 50%;\n",
              "      cursor: pointer;\n",
              "      display: none;\n",
              "      fill: #1967D2;\n",
              "      height: 32px;\n",
              "      padding: 0 0 0 0;\n",
              "      width: 32px;\n",
              "    }\n",
              "\n",
              "    .colab-df-convert:hover {\n",
              "      background-color: #E2EBFA;\n",
              "      box-shadow: 0px 1px 2px rgba(60, 64, 67, 0.3), 0px 1px 3px 1px rgba(60, 64, 67, 0.15);\n",
              "      fill: #174EA6;\n",
              "    }\n",
              "\n",
              "    [theme=dark] .colab-df-convert {\n",
              "      background-color: #3B4455;\n",
              "      fill: #D2E3FC;\n",
              "    }\n",
              "\n",
              "    [theme=dark] .colab-df-convert:hover {\n",
              "      background-color: #434B5C;\n",
              "      box-shadow: 0px 1px 3px 1px rgba(0, 0, 0, 0.15);\n",
              "      filter: drop-shadow(0px 1px 2px rgba(0, 0, 0, 0.3));\n",
              "      fill: #FFFFFF;\n",
              "    }\n",
              "  </style>\n",
              "\n",
              "      <script>\n",
              "        const buttonEl =\n",
              "          document.querySelector('#df-58028a45-30e8-419d-80de-8d26c7282860 button.colab-df-convert');\n",
              "        buttonEl.style.display =\n",
              "          google.colab.kernel.accessAllowed ? 'block' : 'none';\n",
              "\n",
              "        async function convertToInteractive(key) {\n",
              "          const element = document.querySelector('#df-58028a45-30e8-419d-80de-8d26c7282860');\n",
              "          const dataTable =\n",
              "            await google.colab.kernel.invokeFunction('convertToInteractive',\n",
              "                                                     [key], {});\n",
              "          if (!dataTable) return;\n",
              "\n",
              "          const docLinkHtml = 'Like what you see? Visit the ' +\n",
              "            '<a target=\"_blank\" href=https://colab.research.google.com/notebooks/data_table.ipynb>data table notebook</a>'\n",
              "            + ' to learn more about interactive tables.';\n",
              "          element.innerHTML = '';\n",
              "          dataTable['output_type'] = 'display_data';\n",
              "          await google.colab.output.renderOutput(dataTable, element);\n",
              "          const docLink = document.createElement('div');\n",
              "          docLink.innerHTML = docLinkHtml;\n",
              "          element.appendChild(docLink);\n",
              "        }\n",
              "      </script>\n",
              "    </div>\n",
              "  </div>\n",
              "  "
            ]
          },
          "metadata": {},
          "execution_count": 12
        }
      ],
      "source": [
        "independent_variables = drought_df.drop('score', 1)\n",
        "independent_variables = independent_variables.drop('fips', 1)\n",
        "independent_variables = independent_variables.drop('date', 1)\n",
        "independent_variables.head()"
      ]
    },
    {
      "cell_type": "code",
      "execution_count": null,
      "metadata": {
        "colab": {
          "base_uri": "https://localhost:8080/"
        },
        "id": "WyD-Sf44qOzs",
        "outputId": "f4ccdbfd-6628-447e-bf86-6bf39f9882d3"
      },
      "outputs": [
        {
          "output_type": "execute_result",
          "data": {
            "text/plain": [
              "3     1\n",
              "10    2\n",
              "17    2\n",
              "24    2\n",
              "31    1\n",
              "Name: score, dtype: int64"
            ]
          },
          "metadata": {},
          "execution_count": 13
        }
      ],
      "source": [
        "target = drought_df['score']\n",
        "target.head()"
      ]
    },
    {
      "cell_type": "code",
      "execution_count": null,
      "metadata": {
        "id": "BhfKp5M-p8K0"
      },
      "outputs": [],
      "source": [
        "X_train, X_test, y_train, y_test = train_test_split(independent_variables, target, test_size=0.2, random_state=0)\n"
      ]
    },
    {
      "cell_type": "code",
      "execution_count": null,
      "metadata": {
        "colab": {
          "base_uri": "https://localhost:8080/"
        },
        "id": "d27heNBVqIZZ",
        "outputId": "391dd88b-b780-4161-a3af-cef7fb1b0f2c"
      },
      "outputs": [
        {
          "output_type": "stream",
          "name": "stdout",
          "text": [
            "Train features shape (2205436, 21)\n",
            "Train target shape (2205436,)\n",
            "Test features shape (551360, 21)\n",
            "Test target shape (551360,)\n"
          ]
        }
      ],
      "source": [
        "print(\"Train features shape\", X_train.shape)\n",
        "print(\"Train target shape\", y_train.shape)\n",
        "print(\"Test features shape\", X_test.shape)\n",
        "print(\"Test target shape\", y_test.shape)"
      ]
    },
    {
      "cell_type": "code",
      "execution_count": null,
      "metadata": {
        "colab": {
          "base_uri": "https://localhost:8080/"
        },
        "id": "8kGfS-HtqV5C",
        "outputId": "b2e9a931-8741-454c-8cb9-18d85aaebe3f"
      },
      "outputs": [
        {
          "output_type": "execute_result",
          "data": {
            "text/plain": [
              "array([[ 2.21714261e+00,  9.57089223e-02,  1.50081031e+00, ...,\n",
              "         2.04741496e-01,  1.00934752e+00, -3.05953840e-01],\n",
              "       [-4.34665774e-01, -7.40190517e-01, -1.13222167e+00, ...,\n",
              "        -1.02000952e+00, -1.31156897e+00, -5.33260874e-01],\n",
              "       [-3.89747060e-01,  7.49731341e-01,  1.64061732e+00, ...,\n",
              "         4.08866666e-01, -1.51110728e-01, -7.86468057e-02],\n",
              "       ...,\n",
              "       [-2.72637555e-01, -1.48423288e+00, -9.16156290e-01, ...,\n",
              "        -6.11759181e-01, -1.31156897e+00, -1.66979604e+00],\n",
              "       [-4.34665774e-01, -3.65652748e-02, -3.29390515e-01, ...,\n",
              "         6.16326886e-04,  7.19232955e-01,  3.50067113e-02],\n",
              "       [-3.88142820e-01,  9.73862619e-01,  2.25600940e-01, ...,\n",
              "         6.12991835e-01, -1.02145441e+00, -8.74221425e-01]])"
            ]
          },
          "metadata": {},
          "execution_count": 16
        }
      ],
      "source": [
        "sc = StandardScaler()\n",
        "X_train = sc.fit_transform(X_train)\n",
        "X_test = sc.transform(X_test)\n",
        "X_train"
      ]
    },
    {
      "cell_type": "code",
      "execution_count": null,
      "metadata": {
        "colab": {
          "base_uri": "https://localhost:8080/"
        },
        "id": "iIzumU1otx-r",
        "outputId": "213d410c-ba84-4f68-8980-63c8255b5cf4"
      },
      "outputs": [
        {
          "output_type": "stream",
          "name": "stdout",
          "text": [
            "Num Features: 15\n",
            "Selected Features: [False  True  True  True  True False  True  True  True  True  True False\n",
            " False  True  True  True False  True  True False  True]\n",
            "Feature Ranking: [4 1 1 1 1 3 1 1 1 1 1 5 6 1 1 1 2 1 1 7 1]\n",
            "Index(['PS', 'QV2M', 'T2M', 'T2MDEW', 'T2M_MAX', 'T2M_MIN', 'T2M_RANGE', 'TS',\n",
            "       'WS10M', 'WS10M_RANGE', 'WS50M', 'WS50M_MAX', 'WS50M_RANGE', 'year',\n",
            "       'day'],\n",
            "      dtype='object')\n"
          ]
        }
      ],
      "source": [
        "model = RandomForestClassifier(n_estimators=10) # n_estimators is the hyperparameter\n",
        "rfe = RFE(model, n_features_to_select=15) # n_features_to_select is chosen on a trial and error basis\n",
        "fit = rfe.fit(X_train, y_train)\n",
        "print(\"Num Features: %s\" % (fit.n_features_))\n",
        "print(\"Selected Features: %s\" % (fit.support_))\n",
        "print(\"Feature Ranking: %s\" % (fit.ranking_))\n",
        "selected_features = independent_variables.columns[(fit.get_support())]\n",
        "print(selected_features)"
      ]
    },
    {
      "cell_type": "code",
      "execution_count": null,
      "metadata": {
        "id": "pJ2zO2Lot09-",
        "colab": {
          "base_uri": "https://localhost:8080/"
        },
        "outputId": "fceb5538-4fc9-4c37-b89a-e9ea71305672"
      },
      "outputs": [
        {
          "output_type": "stream",
          "name": "stdout",
          "text": [
            "Train features shape (2205436, 15)\n",
            "Train target shape (2205436,)\n",
            "Test features shape (551360, 15)\n",
            "Test target shape (551360,)\n"
          ]
        }
      ],
      "source": [
        "independent_variables = independent_variables.drop('PRECTOT', 1)\n",
        "independent_variables = independent_variables.drop('T2MWET', 1)\n",
        "independent_variables = independent_variables.drop('WS10M_MAX', 1)\n",
        "independent_variables = independent_variables.drop('WS10M_MIN', 1)\n",
        "independent_variables = independent_variables.drop('WS50M_MIN', 1)\n",
        "independent_variables = independent_variables.drop('month', 1)\n",
        "independent_variables.head()\n",
        "\n",
        "X_train, X_test, y_train, y_test = train_test_split(independent_variables, target, test_size=0.2, random_state=0)\n",
        "\n",
        "print(\"Train features shape\", X_train.shape)\n",
        "print(\"Train target shape\", y_train.shape)\n",
        "print(\"Test features shape\", X_test.shape)\n",
        "print(\"Test target shape\", y_test.shape)\n",
        "\n",
        "sc = StandardScaler()\n",
        "X_train = sc.fit_transform(X_train)\n",
        "X_test = sc.transform(X_test)"
      ]
    },
    {
      "cell_type": "markdown",
      "source": [
        "#Fixing class imbalance\n"
      ],
      "metadata": {
        "id": "Ls_d_D7_o37E"
      }
    },
    {
      "cell_type": "markdown",
      "source": [
        "#Upsampling using SMOTE\n",
        "\n",
        "SMOTE (Synthetic Minority Over-sampling Technique) is a popular algorithm used for dealing with class imbalance problems in machine learning. SMOTE creates synthetic samples of the minority class by interpolating between neighboring samples of the same class. This results in a more balanced dataset that can be used for training a model.\n",
        "\n",
        "Upsampling with SMOTE involves using the SMOTE algorithm to generate synthetic samples of the minority class in the training dataset. This process can help to balance the class distribution and improve the performance of a machine learning model on the minority class."
      ],
      "metadata": {
        "id": "Ro4mvp7cSfqU"
      }
    },
    {
      "cell_type": "code",
      "source": [
        "sm = SMOTE(random_state = 5)\n",
        "X_train_ures_SMOTE, y_train_ures_SMOTE = sm.fit_resample(X_train, y_train.ravel())"
      ],
      "metadata": {
        "id": "sMMOwTHCYGHg"
      },
      "execution_count": null,
      "outputs": []
    },
    {
      "cell_type": "code",
      "source": [
        "print('Before OverSampling, the shape of train_X: {}'.format(X_train.shape))\n",
        "print('Before OverSampling, the shape of train_y: {} \\n'.format(y_train.shape))\n",
        "\n",
        "print('After OverSampling, the shape of train_X: {}'.format(X_train_ures_SMOTE.shape))\n",
        "print('After OverSampling, the shape of train_y: {} \\n'.format(y_train_ures_SMOTE.shape))\n",
        "\n",
        "print(\"Counts of label '0' - Before Oversampling:{}, After OverSampling: {}\".format(sum(y_train == 0),sum(y_train_ures_SMOTE == 0)))\n",
        "print(\"Counts of label '1' - Before Oversampling:{}, After OverSampling: {}\".format(sum(y_train == 1),sum(y_train_ures_SMOTE == 1)))\n",
        "print(\"Counts of label '2' - Before Oversampling:{}, After OverSampling: {}\".format(sum(y_train == 2),sum(y_train_ures_SMOTE == 2)))\n",
        "print(\"Counts of label '3' - Before Oversampling:{}, After OverSampling: {}\".format(sum(y_train == 3),sum(y_train_ures_SMOTE == 3)))\n",
        "print(\"Counts of label '4' - Before Oversampling:{}, After OverSampling: {}\".format(sum(y_train == 4),sum(y_train_ures_SMOTE == 4)))\n",
        "print(\"Counts of label '5' - Before Oversampling:{}, After OverSampling: {}\".format(sum(y_train == 5),sum(y_train_ures_SMOTE == 5)))"
      ],
      "metadata": {
        "colab": {
          "base_uri": "https://localhost:8080/"
        },
        "id": "jvct6Y4XYLiW",
        "outputId": "590d4084-7fa3-4793-da08-f5ed28941f6a"
      },
      "execution_count": null,
      "outputs": [
        {
          "output_type": "stream",
          "name": "stdout",
          "text": [
            "Before OverSampling, the shape of train_X: (2205436, 15)\n",
            "Before OverSampling, the shape of train_y: (2205436,) \n",
            "\n",
            "After OverSampling, the shape of train_X: (7924818, 15)\n",
            "After OverSampling, the shape of train_y: (7924818,) \n",
            "\n",
            "Counts of label '0' - Before Oversampling:1320803, After OverSampling: 1320803\n",
            "Counts of label '1' - Before Oversampling:373855, After OverSampling: 1320803\n",
            "Counts of label '2' - Before Oversampling:236625, After OverSampling: 1320803\n",
            "Counts of label '3' - Before Oversampling:157571, After OverSampling: 1320803\n",
            "Counts of label '4' - Before Oversampling:85208, After OverSampling: 1320803\n",
            "Counts of label '5' - Before Oversampling:31374, After OverSampling: 1320803\n"
          ]
        }
      ]
    },
    {
      "cell_type": "code",
      "source": [
        "#undersample = NeighbourhoodCleaningRule(n_neighbors=3, threshold_cleaning=0.5)\n",
        "#X_train_dres, y_train_dres = undersample.fit_resample(X_train, y_train)"
      ],
      "metadata": {
        "id": "X4G49etDZSi3"
      },
      "execution_count": null,
      "outputs": []
    },
    {
      "cell_type": "code",
      "source": [
        "# print('Before UnderSampling, the shape of train_X: {}'.format(X_train.shape))\n",
        "# print('Before UnderSampling, the shape of train_y: {} \\n'.format(y_train.shape))\n",
        "\n",
        "# print('After UnderSampling, the shape of train_X: {}'.format(X_train_dres.shape))\n",
        "# print('After UnderSampling, the shape of train_y: {} \\n'.format(y_train_dres.shape))\n",
        "\n",
        "# print(\"Counts of label '0' - Before UnderSampling:{}, After UnderSampling: {}\".format(sum(y_train == 0),sum(y_train_dres == 0)))\n",
        "# print(\"Counts of label '1' - Before UnderSampling:{}, After UnderSampling: {}\".format(sum(y_train == 1),sum(y_train_dres == 1)))\n",
        "# print(\"Counts of label '2' - Before UnderSampling:{}, After UnderSampling: {}\".format(sum(y_train == 2),sum(y_train_dres == 2)))\n",
        "# print(\"Counts of label '3' - Before UnderSampling:{}, After UnderSampling: {}\".format(sum(y_train == 3),sum(y_train_dres == 3)))\n",
        "# print(\"Counts of label '4' - Before UnderSampling:{}, After UnderSampling: {}\".format(sum(y_train == 4),sum(y_train_dres == 4)))\n",
        "# print(\"Counts of label '5' - Before UnderSampling:{}, After UnderSampling: {}\".format(sum(y_train == 5),sum(y_train_dres == 5)))"
      ],
      "metadata": {
        "colab": {
          "base_uri": "https://localhost:8080/"
        },
        "id": "Whkp19lIZxp_",
        "outputId": "d51e94de-245b-480a-b016-8d7f2cb4fb49"
      },
      "execution_count": null,
      "outputs": [
        {
          "output_type": "stream",
          "name": "stdout",
          "text": [
            "Before UnderSampling, the shape of train_X: (2205436, 15)\n",
            "Before UnderSampling, the shape of train_y: (2205436,) \n",
            "\n",
            "After UnderSampling, the shape of train_X: (1746196, 15)\n",
            "After UnderSampling, the shape of train_y: (1746196,) \n",
            "\n",
            "Counts of label '0' - Before UnderSampling:1320803, After UnderSampling: 1230970\n",
            "Counts of label '1' - Before UnderSampling:373855, After UnderSampling: 226046\n",
            "Counts of label '2' - Before UnderSampling:236625, After UnderSampling: 129001\n",
            "Counts of label '3' - Before UnderSampling:157571, After UnderSampling: 84065\n",
            "Counts of label '4' - Before UnderSampling:85208, After UnderSampling: 44740\n",
            "Counts of label '5' - Before UnderSampling:31374, After UnderSampling: 31374\n"
          ]
        }
      ]
    },
    {
      "cell_type": "markdown",
      "source": [
        "#Downsampling using Near Miss\n",
        "\n",
        "NearMiss is a popular algorithm used for downsampling in machine learning. It works by selecting samples from the majority class that are \"close\" to samples in the minority class. This results in a more balanced dataset that can be used for training a model.\n",
        "\n",
        "Downsampling with NearMiss involves using the NearMiss algorithm to select a subset of samples from the majority class in the training dataset. This process can help to balance the class distribution and improve the performance of a machine learning model on the minority class."
      ],
      "metadata": {
        "id": "-IajC88Opbuf"
      }
    },
    {
      "cell_type": "code",
      "source": [
        "undersample = NearMiss()\n",
        "X_train_dres_nm, y_train_dres_nm = undersample.fit_resample(X_train, y_train)"
      ],
      "metadata": {
        "id": "cTYcg4mOdlaV"
      },
      "execution_count": null,
      "outputs": []
    },
    {
      "cell_type": "code",
      "source": [
        "print('Before UnderSampling, the shape of train_X: {}'.format(X_train.shape))\n",
        "print('Before UnderSampling, the shape of train_y: {} \\n'.format(y_train.shape))\n",
        "\n",
        "print('After UnderSampling, the shape of train_X: {}'.format(X_train_dres_nm.shape))\n",
        "print('After UnderSampling, the shape of train_y: {} \\n'.format(y_train_dres_nm.shape))\n",
        "\n",
        "print(\"Counts of label '0' - Before UnderSampling:{}, After UnderSampling: {}\".format(sum(y_train == 0),sum(y_train_dres_nm == 0)))\n",
        "print(\"Counts of label '1' - Before UnderSampling:{}, After UnderSampling: {}\".format(sum(y_train == 1),sum(y_train_dres_nm == 1)))\n",
        "print(\"Counts of label '2' - Before UnderSampling:{}, After UnderSampling: {}\".format(sum(y_train == 2),sum(y_train_dres_nm == 2)))\n",
        "print(\"Counts of label '3' - Before UnderSampling:{}, After UnderSampling: {}\".format(sum(y_train == 3),sum(y_train_dres_nm == 3)))\n",
        "print(\"Counts of label '4' - Before UnderSampling:{}, After UnderSampling: {}\".format(sum(y_train == 4),sum(y_train_dres_nm == 4)))\n",
        "print(\"Counts of label '5' - Before UnderSampling:{}, After UnderSampling: {}\".format(sum(y_train == 5),sum(y_train_dres_nm == 5)))"
      ],
      "metadata": {
        "colab": {
          "base_uri": "https://localhost:8080/"
        },
        "id": "mbueVYNwduX3",
        "outputId": "6859f887-779f-4a88-b4a5-e7449adfa37c"
      },
      "execution_count": null,
      "outputs": [
        {
          "output_type": "stream",
          "name": "stdout",
          "text": [
            "Before UnderSampling, the shape of train_X: (2205436, 15)\n",
            "Before UnderSampling, the shape of train_y: (2205436,) \n",
            "\n",
            "After UnderSampling, the shape of train_X: (188244, 15)\n",
            "After UnderSampling, the shape of train_y: (188244,) \n",
            "\n",
            "Counts of label '0' - Before UnderSampling:1320803, After UnderSampling: 31374\n",
            "Counts of label '1' - Before UnderSampling:373855, After UnderSampling: 31374\n",
            "Counts of label '2' - Before UnderSampling:236625, After UnderSampling: 31374\n",
            "Counts of label '3' - Before UnderSampling:157571, After UnderSampling: 31374\n",
            "Counts of label '4' - Before UnderSampling:85208, After UnderSampling: 31374\n",
            "Counts of label '5' - Before UnderSampling:31374, After UnderSampling: 31374\n"
          ]
        }
      ]
    },
    {
      "cell_type": "markdown",
      "source": [
        "#PCA for dimensionality reduction\n",
        "\n",
        "#PCA on near miss downsampled data"
      ],
      "metadata": {
        "id": "SbnUC4Zle37O"
      }
    },
    {
      "cell_type": "code",
      "source": [
        "# pca = PCA()\n",
        "# X_train_dres_nm_PCAreduced = pca.fit_transform(X_train_dres_nm)\n",
        "# X_test_NM_PCA_transformed = pca.transform(X_test)"
      ],
      "metadata": {
        "id": "95sVsyGsd0e8"
      },
      "execution_count": null,
      "outputs": []
    },
    {
      "cell_type": "code",
      "source": [
        "# print(pca.explained_variance_ratio_)"
      ],
      "metadata": {
        "colab": {
          "base_uri": "https://localhost:8080/"
        },
        "id": "cV8s4gCHd7MP",
        "outputId": "3d9089ef-b51d-40a4-c13c-a01e7a4202f3"
      },
      "execution_count": null,
      "outputs": [
        {
          "output_type": "stream",
          "name": "stdout",
          "text": [
            "[4.52427047e-01 1.96800376e-01 9.24685658e-02 8.81612261e-02\n",
            " 6.45364302e-02 4.48822682e-02 3.85415258e-02 1.02119415e-02\n",
            " 7.08077711e-03 2.06625391e-03 1.48838993e-03 8.89425424e-04\n",
            " 3.67252846e-04 7.85112441e-05 8.92766475e-09]\n"
          ]
        }
      ]
    },
    {
      "cell_type": "code",
      "source": [
        "# # choosing n value that explains >90% variance\n",
        "# pca = PCA(n_components=5)\n",
        "# X_train_dres_nm_PCAreduced = pca.fit_transform(X_train_dres_nm)\n",
        "# X_test_NM_PCA_transformed = pca.transform(X_test)"
      ],
      "metadata": {
        "id": "CpHnwA2ed_t-"
      },
      "execution_count": null,
      "outputs": []
    },
    {
      "cell_type": "code",
      "source": [
        "# print(pca.explained_variance_ratio_)"
      ],
      "metadata": {
        "colab": {
          "base_uri": "https://localhost:8080/"
        },
        "id": "t-5YhMb9ey0O",
        "outputId": "1124975f-f22e-4a4c-818b-0d9085b57e30"
      },
      "execution_count": null,
      "outputs": [
        {
          "output_type": "stream",
          "name": "stdout",
          "text": [
            "[0.45242705 0.19680038 0.09246857 0.08816123 0.06453643]\n"
          ]
        }
      ]
    },
    {
      "cell_type": "markdown",
      "source": [
        "#PCA on SMOTE Upsampled Data"
      ],
      "metadata": {
        "id": "LQRyDfqdfDob"
      }
    },
    {
      "cell_type": "code",
      "source": [
        "# pca = PCA()\n",
        "# X_train_ures_SMOTE_PCAreduced = pca.fit_transform(X_train_ures_SMOTE)\n",
        "# X_test_SMOTE_PCA_transformed = pca.transform(X_test)"
      ],
      "metadata": {
        "id": "Xc6enRUWeElc"
      },
      "execution_count": null,
      "outputs": []
    },
    {
      "cell_type": "code",
      "source": [
        "# print(pca.explained_variance_ratio_)"
      ],
      "metadata": {
        "colab": {
          "base_uri": "https://localhost:8080/"
        },
        "id": "pyQ3UQu1eKV9",
        "outputId": "88b8e9b3-3575-4f16-ccb3-11388d7034e0"
      },
      "execution_count": null,
      "outputs": [
        {
          "output_type": "stream",
          "name": "stdout",
          "text": [
            "[4.09305326e-01 2.24202289e-01 1.07716211e-01 6.47490391e-02\n",
            " 6.42705962e-02 5.66380231e-02 4.98746620e-02 1.09249196e-02\n",
            " 7.27465485e-03 2.21952830e-03 1.48919785e-03 8.85319555e-04\n",
            " 3.76755933e-04 7.34731926e-05 4.81116498e-09]\n"
          ]
        }
      ]
    },
    {
      "cell_type": "code",
      "source": [
        "# # choosing n value that explains >90% variance\n",
        "# pca = PCA(n_components=5)\n",
        "# X_train_ures_SMOTE_PCAreduced = pca.fit_transform(X_train_ures_SMOTE)\n",
        "# X_test_SMOTE_PCA_transformed = pca.transform(X_test)"
      ],
      "metadata": {
        "id": "UV1o97FmeKOj"
      },
      "execution_count": null,
      "outputs": []
    },
    {
      "cell_type": "code",
      "source": [
        "# print(pca.explained_variance_ratio_)"
      ],
      "metadata": {
        "id": "0n7lOwOreKH6"
      },
      "execution_count": null,
      "outputs": []
    },
    {
      "cell_type": "markdown",
      "source": [
        "#LDA for dimensionality reduction\n",
        "LDA on near miss downsampled data"
      ],
      "metadata": {
        "id": "HHBs8KSQfJdu"
      }
    },
    {
      "cell_type": "code",
      "source": [
        "# lda=LDA(n_components=5)\n",
        "# X_train_dres_nm_LDAreduced=lda.fit_transform(X_train_dres_nm,y_train_dres_nm)\n",
        "# X_test_NM_LDA_transformed=lda.transform(X_test)"
      ],
      "metadata": {
        "id": "8TIKCuiteKAv"
      },
      "execution_count": null,
      "outputs": []
    },
    {
      "cell_type": "code",
      "source": [
        "# print(\"Train features shape\", X_train.shape)\n",
        "# print(\"LDA Dimensionality reduced features shape on Near Miss downsampled data\", X_train_dres_nm_LDAreduced.shape)\n",
        "# print(\"LDA Dimensionality reduced features shape on test data\", X_test_NM_LDA_transformed.shape)"
      ],
      "metadata": {
        "id": "8ydu0j_SeJ52"
      },
      "execution_count": null,
      "outputs": []
    },
    {
      "cell_type": "markdown",
      "source": [
        "#LDA on SMOTE Upsampled Data\n"
      ],
      "metadata": {
        "id": "XTxu5TG1gPdv"
      }
    },
    {
      "cell_type": "code",
      "source": [
        "# lda=LDA(n_components=5)\n",
        "# X_train_ures_SMOTE_LDAreduced=lda.fit_transform(X_train_ures_SMOTE,y_train_ures_SMOTE)\n",
        "# X_test_SMOTE_LDA_transformed=lda.transform(X_test)"
      ],
      "metadata": {
        "id": "1_s5x6KbeJwM"
      },
      "execution_count": null,
      "outputs": []
    },
    {
      "cell_type": "code",
      "source": [
        "# print(\"Train features shape\", X_train.shape)\n",
        "# print(\"LDA Dimensionality reduced features shape on SMOTE Upsampled data\", X_train_ures_SMOTE_LDAreduced.shape)\n",
        "# print(\"LDA Dimensionality reduced features shape on test data\", X_test_NM_LDA_transformed.shape)"
      ],
      "metadata": {
        "id": "VR0PioufeJlz"
      },
      "execution_count": null,
      "outputs": []
    },
    {
      "cell_type": "markdown",
      "source": [
        "#Random Forest without Resampling\n",
        "\n",
        "Random Forest is a powerful machine learning algorithm used for classification, regression, and feature selection tasks. It is an ensemble learning technique that constructs a multitude of decision trees at training time and outputs the class that is the mode of the classes (classification) or mean prediction (regression) of the individual trees."
      ],
      "metadata": {
        "id": "BW5JHC8fw_7g"
      }
    },
    {
      "cell_type": "code",
      "source": [
        "RF_classifier = RandomForestClassifier(n_estimators = 20, max_depth=70, random_state=0)\n",
        "RF_classifier.fit(X_train, y_train)\n",
        "y_pred_RF = RF_classifier.predict(X_test)"
      ],
      "metadata": {
        "id": "y7zgSYXCeJZ0"
      },
      "execution_count": null,
      "outputs": []
    },
    {
      "cell_type": "code",
      "source": [
        "print('Performance of RF Algorithm without resampling:\\n')\n",
        "print(confusion_matrix(y_test, y_pred_RF))\n",
        "print(classification_report(y_test, y_pred_RF))\n",
        "print('Accuracy:',accuracy_score(y_test, y_pred_RF))\n",
        "print('Precision:',precision_score(y_test, y_pred_RF, average='weighted'))\n",
        "print('Recall:',recall_score(y_test, y_pred_RF, average='weighted'))\n",
        "print('F1 Score:',f1_score(y_test, y_pred_RF, average='weighted'))\n",
        "print('Cohen Kappa Score:',cohen_kappa_score(y_test, y_pred_RF))"
      ],
      "metadata": {
        "colab": {
          "base_uri": "https://localhost:8080/"
        },
        "id": "mhoERDDoeI_x",
        "outputId": "ffc927bc-4c34-4ede-a4cc-8a3758f0ab70"
      },
      "execution_count": null,
      "outputs": [
        {
          "output_type": "stream",
          "name": "stdout",
          "text": [
            "Performance of RF Algorithm without resampling:\n",
            "\n",
            "[[318865  10788   1177    437    138     22]\n",
            " [ 33950  50337   7515   1014    240     33]\n",
            " [ 12453   9470  30665   5450    602     66]\n",
            " [  6632   1974   6559  20706   3192    168]\n",
            " [  2847    707   1142   4033  11295   1033]\n",
            " [  1006    241    254    370   1474   4505]]\n",
            "              precision    recall  f1-score   support\n",
            "\n",
            "           0       0.85      0.96      0.90    331427\n",
            "           1       0.68      0.54      0.60     93089\n",
            "           2       0.65      0.52      0.58     58706\n",
            "           3       0.65      0.53      0.58     39231\n",
            "           4       0.67      0.54      0.59     21057\n",
            "           5       0.77      0.57      0.66      7850\n",
            "\n",
            "    accuracy                           0.79    551360\n",
            "   macro avg       0.71      0.61      0.65    551360\n",
            "weighted avg       0.78      0.79      0.78    551360\n",
            "\n",
            "Accuracy: 0.7914484184561811\n",
            "Precision: 0.7772108449872397\n",
            "Recall: 0.7914484184561811\n",
            "F1 Score: 0.7791354605578688\n",
            "Cohen Kappa Score: 0.623035999798691\n"
          ]
        }
      ]
    },
    {
      "cell_type": "markdown",
      "source": [
        "#KNN with SMOTE upsampling\n",
        "\n",
        "K-Nearest Neighbors (KNN) is a non-parametric machine learning algorithm used for both classification and regression tasks. KNN works by finding the K closest neighbors to a given data point and then classifying or predicting the outcome based on the majority class or average value of the K neighbors.\n",
        "Using SMOTE with KNN involves first applying the SMOTE technique to the imbalanced dataset to generate synthetic samples of the minority class. The new, balanced dataset is then used as input to the KNN algorithm for classification or regression."
      ],
      "metadata": {
        "id": "P7sPCt-JxGIg"
      }
    },
    {
      "cell_type": "code",
      "source": [
        "knn_classifier_SMOTE = KNeighborsClassifier(n_neighbors=1, p=2, metric='minkowski')\n",
        "knn_classifier_SMOTE.fit(X_train_ures_SMOTE, y_train_ures_SMOTE)\n",
        "y_pred_knn_SMOTE = knn_classifier_SMOTE.predict(X_test)"
      ],
      "metadata": {
        "id": "zW26qLW2u1jo"
      },
      "execution_count": null,
      "outputs": []
    },
    {
      "cell_type": "code",
      "source": [
        "pickle.dump(knn_classifier_SMOTE, open('knn_classifier_SMOTE.pkl', 'wb'))"
      ],
      "metadata": {
        "id": "03Gbks_-veQk"
      },
      "execution_count": null,
      "outputs": []
    },
    {
      "cell_type": "code",
      "source": [
        "print('Performance of KNN Algorithm with SMOTE Upsampling:\\n')\n",
        "print(confusion_matrix(y_test, y_pred_knn_SMOTE))\n",
        "print(classification_report(y_test, y_pred_knn_SMOTE))\n",
        "print('Accuracy:',accuracy_score(y_test, y_pred_knn_SMOTE))\n",
        "print('Precision:',precision_score(y_test, y_pred_knn_SMOTE, average='weighted'))\n",
        "print('Recall:',recall_score(y_test, y_pred_knn_SMOTE, average='weighted'))\n",
        "print('F1 Score:',f1_score(y_test, y_pred_knn_SMOTE, average='weighted'))\n",
        "print('Cohen Kappa Score:',cohen_kappa_score(y_test, y_pred_knn_SMOTE))"
      ],
      "metadata": {
        "colab": {
          "base_uri": "https://localhost:8080/"
        },
        "id": "kvBk_Rytwrmi",
        "outputId": "204b5c2b-cfe8-449f-d3c1-dd32354d3a95"
      },
      "execution_count": null,
      "outputs": [
        {
          "output_type": "stream",
          "name": "stdout",
          "text": [
            "Performance of KNN Algorithm with SMOTE Upsampling:\n",
            "\n",
            "[[299284  22438   5230   2637   1400    438]\n",
            " [ 17245  60810  11695   2235    847    257]\n",
            " [  3049  10458  35979   7664   1279    277]\n",
            " [  1251   1694   7368  23882   4622    414]\n",
            " [   453    495    935   4266  13139   1769]\n",
            " [   136     87    161    309   1643   5514]]\n",
            "              precision    recall  f1-score   support\n",
            "\n",
            "           0       0.93      0.90      0.92    331427\n",
            "           1       0.63      0.65      0.64     93089\n",
            "           2       0.59      0.61      0.60     58706\n",
            "           3       0.58      0.61      0.60     39231\n",
            "           4       0.57      0.62      0.60     21057\n",
            "           5       0.64      0.70      0.67      7850\n",
            "\n",
            "    accuracy                           0.80    551360\n",
            "   macro avg       0.66      0.68      0.67    551360\n",
            "weighted avg       0.80      0.80      0.80    551360\n",
            "\n",
            "Accuracy: 0.7955020313406849\n",
            "Precision: 0.8014971918510334\n",
            "Recall: 0.7955020313406849\n",
            "F1 Score: 0.7982279179675522\n",
            "Cohen Kappa Score: 0.6598710381915689\n"
          ]
        }
      ]
    },
    {
      "cell_type": "code",
      "source": [
        "fpr = dict()\n",
        "tpr = dict()\n",
        "thresh = dict()\n",
        "\n",
        "for i in range(6):\n",
        "    fpr[i], tpr[i], thresh[i] = roc_curve(y_test, y_pred_knn_SMOTE, pos_label=i)\n",
        "\n",
        "plt.plot(fpr[0], tpr[0], linestyle='--',color='orangered', label='Class 0 vs Rest')\n",
        "plt.plot(fpr[1], tpr[1], linestyle='--',color='green', label='Class 1 vs Rest')\n",
        "plt.plot(fpr[2], tpr[2], linestyle='--',color='blue', label='Class 2 vs Rest')\n",
        "plt.plot(fpr[3], tpr[3], linestyle='--',color='yellow', label='Class 3 vs Rest')\n",
        "plt.plot(fpr[4], tpr[4], linestyle='--',color='purple', label='Class 4 vs Rest')\n",
        "plt.plot(fpr[5], tpr[5], linestyle='--',color='magenta', label='Class 5 vs Rest')\n",
        "\n",
        "plt.title('Multiclass ROC curve for KNN with SMOTE Upsampling')\n",
        "plt.xlabel('False Positive Rate')\n",
        "plt.ylabel('True Positive rate')\n",
        "plt.legend(loc='best')\n",
        "plt.savefig('Multiclass ROC curve for KNN with SMOTE Upsampling',dpi=300)"
      ],
      "metadata": {
        "colab": {
          "base_uri": "https://localhost:8080/",
          "height": 472
        },
        "id": "zzN01eqVwzGg",
        "outputId": "eee2c0b8-396a-42a0-e74f-d5a6da213de8"
      },
      "execution_count": null,
      "outputs": [
        {
          "output_type": "display_data",
          "data": {
            "text/plain": [
              "<Figure size 640x480 with 1 Axes>"
            ],
            "image/png": "[encoded data removed]"
          },
          "metadata": {}
        }
      ]
    },
    {
      "cell_type": "markdown",
      "source": [
        "#Decision Tree Algorithm with SMOTE Upsampling\n",
        "\n",
        "Decision tree algorithm is a popular machine learning algorithm used for classification and regression tasks. Decision tree algorithms construct a tree-like model of decisions and their possible consequences, including chance event outcomes, resource costs, and utility.\n",
        "Using SMOTE with decision tree algorithm involves first applying the SMOTE technique to the imbalanced dataset to generate synthetic samples of the minority class. The new, balanced dataset is then used as input to the decision tree algorithm for classification or regression."
      ],
      "metadata": {
        "id": "J7iZzDchxNGc"
      }
    },
    {
      "cell_type": "code",
      "source": [
        "DT_classifier_SMOTE = tree.DecisionTreeClassifier(criterion='gini', max_depth=70)\n",
        "DT_classifier_SMOTE.fit(X_train_ures_SMOTE,y_train_ures_SMOTE)\n",
        "y_pred_SMOTE = DT_classifier_SMOTE.predict(X_test)"
      ],
      "metadata": {
        "id": "NmcFFiWiw4SK"
      },
      "execution_count": null,
      "outputs": []
    },
    {
      "cell_type": "code",
      "source": [
        "pickle.dump(DT_classifier_SMOTE, open('DT_classifier_SMOTE.pkl', 'wb'))\n"
      ],
      "metadata": {
        "id": "P84R_JPfxh6T"
      },
      "execution_count": null,
      "outputs": []
    },
    {
      "cell_type": "code",
      "source": [
        "print('Performance of Decision Tree Algorithm with SMOTE Upsampling:\\n')\n",
        "print(confusion_matrix(y_test, y_pred_SMOTE))\n",
        "print(classification_report(y_test, y_pred_SMOTE))\n",
        "print('Accuracy:',accuracy_score(y_test, y_pred_SMOTE))\n",
        "print('Precision:',precision_score(y_test, y_pred_SMOTE, average='weighted'))\n",
        "print('Recall:',recall_score(y_test, y_pred_SMOTE, average='weighted'))\n",
        "print('F1 Score:',f1_score(y_test, y_pred_SMOTE, average='weighted'))\n",
        "print('Cohen Kappa Score:',cohen_kappa_score(y_test, y_pred_SMOTE))"
      ],
      "metadata": {
        "colab": {
          "base_uri": "https://localhost:8080/"
        },
        "id": "ZT5iiul-z-QZ",
        "outputId": "b2c2634d-e84b-4cc3-fafd-f0f6093f700d"
      },
      "execution_count": null,
      "outputs": [
        {
          "output_type": "stream",
          "name": "stdout",
          "text": [
            "Performance of Decision Tree Algorithm with SMOTE Upsampling:\n",
            "\n",
            "[[289797  26164   8331   4380   2003    752]\n",
            " [ 20493  56708  11457   2860   1202    369]\n",
            " [  4686  11149  33538   7340   1623    370]\n",
            " [  1952   2308   7662  22334   4432    543]\n",
            " [   712    705   1316   4372  12292   1660]\n",
            " [   192    162    237    398   1668   5193]]\n",
            "              precision    recall  f1-score   support\n",
            "\n",
            "           0       0.91      0.87      0.89    331427\n",
            "           1       0.58      0.61      0.60     93089\n",
            "           2       0.54      0.57      0.55     58706\n",
            "           3       0.54      0.57      0.55     39231\n",
            "           4       0.53      0.58      0.56     21057\n",
            "           5       0.58      0.66      0.62      7850\n",
            "\n",
            "    accuracy                           0.76    551360\n",
            "   macro avg       0.61      0.64      0.63    551360\n",
            "weighted avg       0.77      0.76      0.77    551360\n",
            "\n",
            "Accuracy: 0.7615024666279745\n",
            "Precision: 0.7703493349557479\n",
            "Recall: 0.7615024666279745\n",
            "F1 Score: 0.7654637257126385\n",
            "Cohen Kappa Score: 0.6054193808775656\n"
          ]
        }
      ]
    },
    {
      "cell_type": "code",
      "source": [
        "fpr = dict()\n",
        "tpr = dict()\n",
        "thresh = dict()\n",
        "\n",
        "for i in range(6):\n",
        "    fpr[i], tpr[i], thresh[i] = roc_curve(y_test, y_pred_SMOTE, pos_label=i)\n",
        "\n",
        "plt.plot(fpr[0], tpr[0], linestyle='--',color='orangered', label='Class 0 vs Rest')\n",
        "plt.plot(fpr[1], tpr[1], linestyle='--',color='green', label='Class 1 vs Rest')\n",
        "plt.plot(fpr[2], tpr[2], linestyle='--',color='blue', label='Class 2 vs Rest')\n",
        "plt.plot(fpr[3], tpr[3], linestyle='--',color='yellow', label='Class 3 vs Rest')\n",
        "plt.plot(fpr[4], tpr[4], linestyle='--',color='purple', label='Class 4 vs Rest')\n",
        "plt.plot(fpr[5], tpr[5], linestyle='--',color='magenta', label='Class 5 vs Rest')\n",
        "\n",
        "plt.title('Multiclass ROC curve for Decision Tree with SMOTE Upsampling')\n",
        "plt.xlabel('False Positive Rate')\n",
        "plt.ylabel('True Positive rate')\n",
        "plt.legend(loc='best')\n",
        "plt.savefig('Multiclass ROC curve for Decision Tree with SMOTE Upsampling',dpi=300)"
      ],
      "metadata": {
        "colab": {
          "base_uri": "https://localhost:8080/",
          "height": 472
        },
        "id": "ny-8IqhY0A-7",
        "outputId": "6f680da7-9e25-4159-c6f7-d88aa3d895fe"
      },
      "execution_count": null,
      "outputs": [
        {
          "output_type": "display_data",
          "data": {
            "text/plain": [
              "<Figure size 640x480 with 1 Axes>"
            ],
            "image/png": "[encoded data removed]"
          },
          "metadata": {}
        }
      ]
    },
    {
      "cell_type": "markdown",
      "source": [
        "#Naive Bayes without Resampling\n",
        "\n",
        "Naive Bayes is a classification algorithm that makes use of Bayes' theorem to predict the probability of a data point belonging to a particular class. The algorithm assumes that the features of the data point are conditionally independent of each other given the class label, which is why it is called \"naive\".\n",
        "\n",
        "When it comes to building a Naive Bayes model without resampling, we would typically split the data into training and testing sets. The training set would be used to fit the Naive Bayes model, while the testing set would be used to evaluate the model's performance.\n",
        "\n",
        "To fit a Naive Bayes model, we would first calculate the prior probabilities of each class by dividing the number of data points in each class by the total number of data points. Then, for each feature in the data set, we would calculate the conditional probability of the feature given the class label. This involves counting the number of times each feature appears in each class, and dividing it by the total number of data points in that class."
      ],
      "metadata": {
        "id": "BLl8LvG61vSj"
      }
    },
    {
      "cell_type": "code",
      "source": [
        "NB_classifier = GaussianNB()\n",
        "NB_classifier.fit(X_train, y_train)\n",
        "y_pred_NB = NB_classifier.predict(X_test)"
      ],
      "metadata": {
        "id": "_SHWqpwq0FB7"
      },
      "execution_count": null,
      "outputs": []
    },
    {
      "cell_type": "code",
      "source": [
        "pickle.dump(NB_classifier, open('NB_classifier.pkl', 'wb'))\n"
      ],
      "metadata": {
        "id": "_EvJfsQ610Kl"
      },
      "execution_count": null,
      "outputs": []
    },
    {
      "cell_type": "code",
      "source": [
        "print('Performance of Naive Bayes Algorithm without resampling:\\n')\n",
        "print(confusion_matrix(y_test, y_pred_NB))\n",
        "print(classification_report(y_test, y_pred_NB))\n",
        "print('Accuracy:',accuracy_score(y_test, y_pred_NB))\n",
        "print('Precision:',precision_score(y_test, y_pred_NB, average='weighted'))\n",
        "print('Recall:',recall_score(y_test, y_pred_NB, average='weighted'))\n",
        "print('F1 Score:',f1_score(y_test, y_pred_NB, average='weighted'))\n",
        "print('Cohen Kappa Score:',cohen_kappa_score(y_test, y_pred_NB))"
      ],
      "metadata": {
        "colab": {
          "base_uri": "https://localhost:8080/"
        },
        "id": "34N_NZfQ147_",
        "outputId": "01835ed7-d047-4341-b154-fbd9b91ebee9"
      },
      "execution_count": null,
      "outputs": [
        {
          "output_type": "stream",
          "name": "stdout",
          "text": [
            "Performance of Naive Bayes Algorithm without resampling:\n",
            "\n",
            "[[309246   4913   4570   7945   3202   1551]\n",
            " [ 80305   2721   2324   5149   1720    870]\n",
            " [ 48125   2255   1689   4275   1509    853]\n",
            " [ 29659   1782   1297   4042   1397   1054]\n",
            " [ 14975   1155    685   2488    832    922]\n",
            " [  5717    323    212    430    249    919]]\n",
            "              precision    recall  f1-score   support\n",
            "\n",
            "           0       0.63      0.93      0.75    331427\n",
            "           1       0.21      0.03      0.05     93089\n",
            "           2       0.16      0.03      0.05     58706\n",
            "           3       0.17      0.10      0.13     39231\n",
            "           4       0.09      0.04      0.06     21057\n",
            "           5       0.15      0.12      0.13      7850\n",
            "\n",
            "    accuracy                           0.58    551360\n",
            "   macro avg       0.23      0.21      0.19    551360\n",
            "weighted avg       0.45      0.58      0.48    551360\n",
            "\n",
            "Accuracy: 0.5793837057457922\n",
            "Precision: 0.450035672646744\n",
            "Recall: 0.5793837057457922\n",
            "F1 Score: 0.48055511715254784\n",
            "Cohen Kappa Score: 0.08145448378877507\n"
          ]
        }
      ]
    },
    {
      "cell_type": "code",
      "source": [
        "fpr = dict()\n",
        "tpr = dict()\n",
        "thresh = dict()\n",
        "\n",
        "for i in range(6):\n",
        "    fpr[i], tpr[i], thresh[i] = roc_curve(y_test, y_pred_NB, pos_label=i)\n",
        "\n",
        "plt.plot(fpr[0], tpr[0], linestyle='--',color='orangered', label='Class 0 vs Rest')\n",
        "plt.plot(fpr[1], tpr[1], linestyle='--',color='green', label='Class 1 vs Rest')\n",
        "plt.plot(fpr[2], tpr[2], linestyle='--',color='blue', label='Class 2 vs Rest')\n",
        "plt.plot(fpr[3], tpr[3], linestyle='--',color='yellow', label='Class 3 vs Rest')\n",
        "plt.plot(fpr[4], tpr[4], linestyle='--',color='purple', label='Class 4 vs Rest')\n",
        "plt.plot(fpr[5], tpr[5], linestyle='--',color='magenta', label='Class 5 vs Rest')\n",
        "\n",
        "plt.title('Multiclass ROC curve for Naive Bayes without resampling')\n",
        "plt.xlabel('False Positive Rate')\n",
        "plt.ylabel('True Positive rate')\n",
        "plt.legend(loc='best')\n",
        "plt.savefig('Multiclass ROC curve for Naive Bayes without resampling',dpi=300)"
      ],
      "metadata": {
        "colab": {
          "base_uri": "https://localhost:8080/",
          "height": 472
        },
        "id": "nXdOHqTp17i3",
        "outputId": "228047c5-3670-4019-de66-895c59aa096b"
      },
      "execution_count": null,
      "outputs": [
        {
          "output_type": "display_data",
          "data": {
            "text/plain": [
              "<Figure size 640x480 with 1 Axes>"
            ],
            "image/png": "[encoded data removed]"
          },
          "metadata": {}
        }
      ]
    },
    {
      "cell_type": "markdown",
      "source": [
        "#Decision Tree Algorithm with Near Miss Downsampling\n",
        "\n",
        "A decision tree is a machine learning algorithm that can be used for classification or regression tasks. It builds a tree-like model of decisions and their possible consequences, where each internal node represents a test on an attribute, each branch represents the outcome of the test, and each leaf node represents a class label or a predicted value.\n",
        "To apply near miss downsampling with a decision tree, you would first split your dataset into training and testing sets. Then, you would apply the near miss downsampling technique to the training set, to reduce the imbalance between the classes. You would then train the decision tree on the downsampled training set and evaluate its performance on the testing set."
      ],
      "metadata": {
        "id": "qy2OFqYKGFSo"
      }
    },
    {
      "cell_type": "code",
      "source": [
        "DT_classifier_NM = tree.DecisionTreeClassifier(criterion='gini')\n",
        "DT_classifier_NM.fit(X_train_dres_nm,y_train_dres_nm)\n",
        "y_pred_NM = DT_classifier_NM.predict(X_test)"
      ],
      "metadata": {
        "id": "zhofWjim_GBp"
      },
      "execution_count": null,
      "outputs": []
    },
    {
      "cell_type": "code",
      "source": [
        "pickle.dump(DT_classifier_NM, open('DT_classifier_NM.pkl', 'wb'))\n"
      ],
      "metadata": {
        "id": "AVcfJatRF-2T"
      },
      "execution_count": null,
      "outputs": []
    },
    {
      "cell_type": "code",
      "source": [
        "print('Performance of Decision Tree Algorithm with Near Miss Downsampling:\\n')\n",
        "print(confusion_matrix(y_test, y_pred_NM))\n",
        "print(classification_report(y_test, y_pred_NM))\n",
        "print('Accuracy:',accuracy_score(y_test, y_pred_NM))\n",
        "print('Precision:',precision_score(y_test, y_pred_NM, average='weighted'))\n",
        "print('Recall:',recall_score(y_test, y_pred_NM, average='weighted'))\n",
        "print('F1 Score:',f1_score(y_test, y_pred_NM, average='weighted'))\n",
        "print('Cohen Kappa Score:',cohen_kappa_score(y_test, y_pred_NM))"
      ],
      "metadata": {
        "colab": {
          "base_uri": "https://localhost:8080/"
        },
        "id": "Y08RGyFxGJyR",
        "outputId": "8a1b7aad-d1d5-49b6-c864-c4a7592a1d54"
      },
      "execution_count": null,
      "outputs": [
        {
          "output_type": "stream",
          "name": "stdout",
          "text": [
            "Performance of Decision Tree Algorithm with Near Miss Downsampling:\n",
            "\n",
            "[[61150 64631 64014 51704 42391 47537]\n",
            " [ 9629 20692 18371 15572 13121 15704]\n",
            " [ 3955  8186 14820 11607  8990 11148]\n",
            " [ 1809  3761  6383 11361  7281  8636]\n",
            " [  615  1150  2080  3888  7612  5712]\n",
            " [   93   154   277   482  1540  5304]]\n",
            "              precision    recall  f1-score   support\n",
            "\n",
            "           0       0.79      0.18      0.30    331427\n",
            "           1       0.21      0.22      0.22     93089\n",
            "           2       0.14      0.25      0.18     58706\n",
            "           3       0.12      0.29      0.17     39231\n",
            "           4       0.09      0.36      0.15     21057\n",
            "           5       0.06      0.68      0.10      7850\n",
            "\n",
            "    accuracy                           0.22    551360\n",
            "   macro avg       0.24      0.33      0.19    551360\n",
            "weighted avg       0.54      0.22      0.25    551360\n",
            "\n",
            "Accuracy: 0.21934670632617528\n",
            "Precision: 0.5390961932151407\n",
            "Recall: 0.21934670632617528\n",
            "F1 Score: 0.25477065298206447\n",
            "Cohen Kappa Score: 0.07602968628233897\n"
          ]
        }
      ]
    },
    {
      "cell_type": "code",
      "source": [
        "fpr = dict()\n",
        "tpr = dict()\n",
        "thresh = dict()\n",
        "\n",
        "for i in range(6):\n",
        "    fpr[i], tpr[i], thresh[i] = roc_curve(y_test, y_pred_NM, pos_label=i)\n",
        "\n",
        "plt.plot(fpr[0], tpr[0], linestyle='--',color='orangered', label='Class 0 vs Rest')\n",
        "plt.plot(fpr[1], tpr[1], linestyle='--',color='green', label='Class 1 vs Rest')\n",
        "plt.plot(fpr[2], tpr[2], linestyle='--',color='blue', label='Class 2 vs Rest')\n",
        "plt.plot(fpr[3], tpr[3], linestyle='--',color='yellow', label='Class 3 vs Rest')\n",
        "plt.plot(fpr[4], tpr[4], linestyle='--',color='purple', label='Class 4 vs Rest')\n",
        "plt.plot(fpr[5], tpr[5], linestyle='--',color='magenta', label='Class 5 vs Rest')\n",
        "\n",
        "plt.title('Multiclass ROC curve for Decision Tree with Near Miss Downsampling')\n",
        "plt.xlabel('False Positive Rate')\n",
        "plt.ylabel('True Positive rate')\n",
        "plt.legend(loc='best')\n",
        "plt.savefig('Multiclass ROC curve for Decision Tree with Near Miss Downsampling',dpi=300)"
      ],
      "metadata": {
        "colab": {
          "base_uri": "https://localhost:8080/",
          "height": 472
        },
        "id": "o79D9-s6GNOP",
        "outputId": "1f5f3316-d2a6-4f25-b291-2bb35c0a3836"
      },
      "execution_count": null,
      "outputs": [
        {
          "output_type": "display_data",
          "data": {
            "text/plain": [
              "<Figure size 640x480 with 1 Axes>"
            ],
            "image/png": "[encoded data removed]"
          },
          "metadata": {}
        }
      ]
    },
    {
      "cell_type": "markdown",
      "source": [
        "#Ranking All the models implemented on the basis of Accuracy and Cohen Kappa Score"
      ],
      "metadata": {
        "id": "aQNcfSdAtIbF"
      }
    },
    {
      "cell_type": "code",
      "source": [
        "data = [\n",
        "{'Algorithm':'Random Forest without Resampling:' ,'Accuracy':0.791448,'Precision':0.777210,'Recall':0.791448,'F1 Score':0.779195,'Cohen Kappa Score':0.623035},\n",
        "{'Algorithm':'Naive Bayes without Resampling','Accuracy':0.579383,'Precision':0.450036,'Recall':0.579383,'F1 Score':0.480551,'Cohen Kappa Score':0.051454},\n",
        "{'Algorithm':'Decision Tree with SMOTE Upsampling:','Accuracy':0.761502,'Precision':0.770349,'Recall':0.761502,'F1 Score':0.765463,'Cohen Kappa Score':0.605419},\n",
        "{'Algorithm':'KNN with SMOTE Upsampling:','Accuracy':0.795502,'Precision':0.801497,'Recall':0.795502,'F1 Score':0.798227,'Cohen Kappa Score':0.659871},\n",
        "{'Algorithm':'Decision Tree Algorithm with Near Miss Downsampling:','Accuracy':0.219346,'Precision':0.539096,'Recall':0.219346,'F1 Score':0.254776,'Cohen Kappa Score':0.076029}]\n",
        "performance_metrics = pd.DataFrame(data)\n",
        "performance_metrics.sort_values(by=['Accuracy', 'Cohen Kappa Score'], ascending=False)"
      ],
      "metadata": {
        "colab": {
          "base_uri": "https://localhost:8080/",
          "height": 206
        },
        "id": "TI3kHKAaGT5y",
        "outputId": "8df04dfe-b9ea-4371-9eea-ad27bc6febe2"
      },
      "execution_count": null,
      "outputs": [
        {
          "output_type": "execute_result",
          "data": {
            "text/plain": [
              "                                           Algorithm  Accuracy  Precision  \\\n",
              "3                         KNN with SMOTE Upsampling:  0.795502   0.801497   \n",
              "0                  Random Forest without Resampling:  0.791448   0.777210   \n",
              "2               Decision Tree with SMOTE Upsampling:  0.761502   0.770349   \n",
              "1                     Naive Bayes without Resampling  0.579383   0.450036   \n",
              "4  Decision Tree Algorithm with Near Miss Downsam...  0.219346   0.539096   \n",
              "\n",
              "     Recall  F1 Score  Cohen Kappa Score  \n",
              "3  0.795502  0.798227           0.659871  \n",
              "0  0.791448  0.779195           0.623035  \n",
              "2  0.761502  0.765463           0.605419  \n",
              "1  0.579383  0.480551           0.051454  \n",
              "4  0.219346  0.254776           0.076029  "
            ],
            "text/html": [
              "\n",
              "  <div id=\"df-35df4555-7cf9-419e-bde1-375a6755b50a\">\n",
              "    <div class=\"colab-df-container\">\n",
              "      <div>\n",
              "<style scoped>\n",
              "    .dataframe tbody tr th:only-of-type {\n",
              "        vertical-align: middle;\n",
              "    }\n",
              "\n",
              "    .dataframe tbody tr th {\n",
              "        vertical-align: top;\n",
              "    }\n",
              "\n",
              "    .dataframe thead th {\n",
              "        text-align: right;\n",
              "    }\n",
              "</style>\n",
              "<table border=\"1\" class=\"dataframe\">\n",
              "  <thead>\n",
              "    <tr style=\"text-align: right;\">\n",
              "      <th></th>\n",
              "      <th>Algorithm</th>\n",
              "      <th>Accuracy</th>\n",
              "      <th>Precision</th>\n",
              "      <th>Recall</th>\n",
              "      <th>F1 Score</th>\n",
              "      <th>Cohen Kappa Score</th>\n",
              "    </tr>\n",
              "  </thead>\n",
              "  <tbody>\n",
              "    <tr>\n",
              "      <th>3</th>\n",
              "      <td>KNN with SMOTE Upsampling:</td>\n",
              "      <td>0.795502</td>\n",
              "      <td>0.801497</td>\n",
              "      <td>0.795502</td>\n",
              "      <td>0.798227</td>\n",
              "      <td>0.659871</td>\n",
              "    </tr>\n",
              "    <tr>\n",
              "      <th>0</th>\n",
              "      <td>Random Forest without Resampling:</td>\n",
              "      <td>0.791448</td>\n",
              "      <td>0.777210</td>\n",
              "      <td>0.791448</td>\n",
              "      <td>0.779195</td>\n",
              "      <td>0.623035</td>\n",
              "    </tr>\n",
              "    <tr>\n",
              "      <th>2</th>\n",
              "      <td>Decision Tree with SMOTE Upsampling:</td>\n",
              "      <td>0.761502</td>\n",
              "      <td>0.770349</td>\n",
              "      <td>0.761502</td>\n",
              "      <td>0.765463</td>\n",
              "      <td>0.605419</td>\n",
              "    </tr>\n",
              "    <tr>\n",
              "      <th>1</th>\n",
              "      <td>Naive Bayes without Resampling</td>\n",
              "      <td>0.579383</td>\n",
              "      <td>0.450036</td>\n",
              "      <td>0.579383</td>\n",
              "      <td>0.480551</td>\n",
              "      <td>0.051454</td>\n",
              "    </tr>\n",
              "    <tr>\n",
              "      <th>4</th>\n",
              "      <td>Decision Tree Algorithm with Near Miss Downsam...</td>\n",
              "      <td>0.219346</td>\n",
              "      <td>0.539096</td>\n",
              "      <td>0.219346</td>\n",
              "      <td>0.254776</td>\n",
              "      <td>0.076029</td>\n",
              "    </tr>\n",
              "  </tbody>\n",
              "</table>\n",
              "</div>\n",
              "      <button class=\"colab-df-convert\" onclick=\"convertToInteractive('df-35df4555-7cf9-419e-bde1-375a6755b50a')\"\n",
              "              title=\"Convert this dataframe to an interactive table.\"\n",
              "              style=\"display:none;\">\n",
              "        \n",
              "  <svg xmlns=\"http://www.w3.org/2000/svg\" height=\"24px\"viewBox=\"0 0 24 24\"\n",
              "       width=\"24px\">\n",
              "    <path d=\"M0 0h24v24H0V0z\" fill=\"none\"/>\n",
              "    <path d=\"M18.56 5.44l.94 2.06.94-2.06 2.06-.94-2.06-.94-.94-2.06-.94 2.06-2.06.94zm-11 1L8.5 8.5l.94-2.06 2.06-.94-2.06-.94L8.5 2.5l-.94 2.06-2.06.94zm10 10l.94 2.06.94-2.06 2.06-.94-2.06-.94-.94-2.06-.94 2.06-2.06.94z\"/><path d=\"M17.41 7.96l-1.37-1.37c-.4-.4-.92-.59-1.43-.59-.52 0-1.04.2-1.43.59L10.3 9.45l-7.72 7.72c-.78.78-.78 2.05 0 2.83L4 21.41c.39.39.9.59 1.41.59.51 0 1.02-.2 1.41-.59l7.78-7.78 2.81-2.81c.8-.78.8-2.07 0-2.86zM5.41 20L4 18.59l7.72-7.72 1.47 1.35L5.41 20z\"/>\n",
              "  </svg>\n",
              "      </button>\n",
              "      \n",
              "  <style>\n",
              "    .colab-df-container {\n",
              "      display:flex;\n",
              "      flex-wrap:wrap;\n",
              "      gap: 12px;\n",
              "    }\n",
              "\n",
              "    .colab-df-convert {\n",
              "      background-color: #E8F0FE;\n",
              "      border: none;\n",
              "      border-radius: 50%;\n",
              "      cursor: pointer;\n",
              "      display: none;\n",
              "      fill: #1967D2;\n",
              "      height: 32px;\n",
              "      padding: 0 0 0 0;\n",
              "      width: 32px;\n",
              "    }\n",
              "\n",
              "    .colab-df-convert:hover {\n",
              "      background-color: #E2EBFA;\n",
              "      box-shadow: 0px 1px 2px rgba(60, 64, 67, 0.3), 0px 1px 3px 1px rgba(60, 64, 67, 0.15);\n",
              "      fill: #174EA6;\n",
              "    }\n",
              "\n",
              "    [theme=dark] .colab-df-convert {\n",
              "      background-color: #3B4455;\n",
              "      fill: #D2E3FC;\n",
              "    }\n",
              "\n",
              "    [theme=dark] .colab-df-convert:hover {\n",
              "      background-color: #434B5C;\n",
              "      box-shadow: 0px 1px 3px 1px rgba(0, 0, 0, 0.15);\n",
              "      filter: drop-shadow(0px 1px 2px rgba(0, 0, 0, 0.3));\n",
              "      fill: #FFFFFF;\n",
              "    }\n",
              "  </style>\n",
              "\n",
              "      <script>\n",
              "        const buttonEl =\n",
              "          document.querySelector('#df-35df4555-7cf9-419e-bde1-375a6755b50a button.colab-df-convert');\n",
              "        buttonEl.style.display =\n",
              "          google.colab.kernel.accessAllowed ? 'block' : 'none';\n",
              "\n",
              "        async function convertToInteractive(key) {\n",
              "          const element = document.querySelector('#df-35df4555-7cf9-419e-bde1-375a6755b50a');\n",
              "          const dataTable =\n",
              "            await google.colab.kernel.invokeFunction('convertToInteractive',\n",
              "                                                     [key], {});\n",
              "          if (!dataTable) return;\n",
              "\n",
              "          const docLinkHtml = 'Like what you see? Visit the ' +\n",
              "            '<a target=\"_blank\" href=https://colab.research.google.com/notebooks/data_table.ipynb>data table notebook</a>'\n",
              "            + ' to learn more about interactive tables.';\n",
              "          element.innerHTML = '';\n",
              "          dataTable['output_type'] = 'display_data';\n",
              "          await google.colab.output.renderOutput(dataTable, element);\n",
              "          const docLink = document.createElement('div');\n",
              "          docLink.innerHTML = docLinkHtml;\n",
              "          element.appendChild(docLink);\n",
              "        }\n",
              "      </script>\n",
              "    </div>\n",
              "  </div>\n",
              "  "
            ]
          },
          "metadata": {},
          "execution_count": 26
        }
      ]
    },
    {
      "cell_type": "code",
      "source": [],
      "metadata": {
        "id": "_I7XezI7NQIU"
      },
      "execution_count": null,
      "outputs": []
    }
  ],
  "metadata": {
    "colab": {
      "provenance": []
    },
    "gpuClass": "standard",
    "kernelspec": {
      "display_name": "Python 3",
      "name": "python3"
    },
    "language_info": {
      "name": "python"
    }
  },
  "nbformat": 4,
  "nbformat_minor": 0
}